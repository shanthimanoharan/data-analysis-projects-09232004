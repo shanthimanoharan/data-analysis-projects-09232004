{
 "cells": [
  {
   "cell_type": "markdown",
   "id": "2f470e67-1623-4416-b9c2-8367f7834a26",
   "metadata": {},
   "source": [
    "# Exploratory Data Analysis with pandas Studio\n",
    "\n",
    "## Data Analysis of IMDB movies data\n",
    "\n",
    "#### Blocks have been created for your code\n",
    "\n",
    "#### Click on the following link and download the dataset from [Kaggle](https://www.kaggle.com/PromptCloudHQ/imdb-data)."
   ]
  },
  {
   "cell_type": "markdown",
   "id": "34632281-1e15-44b1-a3e3-b82ddacb5cbd",
   "metadata": {},
   "source": [
    "### 1. Read data"
   ]
  },
  {
   "cell_type": "code",
   "execution_count": 21,
   "id": "070ebed9-c948-4821-9a24-67f0e3fe8fce",
   "metadata": {},
   "outputs": [],
   "source": [
    "# import pandas\n",
    "import pandas as pd\n",
    "# create your data variabe using .read_csv \n",
    "movie_data = pd.read_csv(\"IMDB-Movie-Data.csv\")\n",
    "# create your data_indexed variable here\n",
    "movie_data_index = movie_data.index"
   ]
  },
  {
   "cell_type": "code",
   "execution_count": 22,
   "id": "608c357a-271b-49c1-9b96-68b5c1cb7046",
   "metadata": {},
   "outputs": [],
   "source": [
    "# If you are having trouble reading your file, try finding the path.  \n",
    "    # Right click on your data set, on the pop-up menu select \"Copy Path\" then paste it into your read_csv() function."
   ]
  },
  {
   "cell_type": "code",
   "execution_count": 23,
   "id": "5d8b578c-750c-491b-98d5-140a237ad940",
   "metadata": {},
   "outputs": [
    {
     "name": "stdout",
     "output_type": "stream",
     "text": [
      "Rank                                                                  4\n",
      "Title                                                              Sing\n",
      "Genre                                           Animation,Comedy,Family\n",
      "Description           In a city of humanoid animals, a hustling thea...\n",
      "Director                                           Christophe Lourdelet\n",
      "Actors                Matthew McConaughey,Reese Witherspoon, Seth Ma...\n",
      "Year                                                               2016\n",
      "Runtime (Minutes)                                                   108\n",
      "Rating                                                              7.2\n",
      "Votes                                                             60545\n",
      "Revenue (Millions)                                               270.32\n",
      "Metascore                                                          59.0\n",
      "Name: 3, dtype: object\n"
     ]
    }
   ],
   "source": [
    "# Read data with specified explicit index\n",
    "data_indexed = movie_data.loc[3]\n",
    "print(data_indexed)"
   ]
  },
  {
   "cell_type": "markdown",
   "id": "f449d3ea-91fe-45f5-8d6b-e6ccab3502d7",
   "metadata": {
    "tags": []
   },
   "source": [
    "### 2. View Data\n",
    "#### As we go through this section, write your own definitions of what each function does as a comment in the code box."
   ]
  },
  {
   "cell_type": "code",
   "execution_count": 31,
   "id": "ac9b2d61-7ed5-4e83-995d-c498036f37f9",
   "metadata": {
    "scrolled": true
   },
   "outputs": [
    {
     "name": "stdout",
     "output_type": "stream",
     "text": [
      "   Rank                    Title                     Genre  \\\n",
      "0     1  Guardians of the Galaxy   Action,Adventure,Sci-Fi   \n",
      "1     2               Prometheus  Adventure,Mystery,Sci-Fi   \n",
      "2     3                    Split           Horror,Thriller   \n",
      "3     4                     Sing   Animation,Comedy,Family   \n",
      "4     5            Suicide Squad  Action,Adventure,Fantasy   \n",
      "\n",
      "                                         Description              Director  \\\n",
      "0  A group of intergalactic criminals are forced ...            James Gunn   \n",
      "1  Following clues to the origin of mankind, a te...          Ridley Scott   \n",
      "2  Three girls are kidnapped by a man with a diag...    M. Night Shyamalan   \n",
      "3  In a city of humanoid animals, a hustling thea...  Christophe Lourdelet   \n",
      "4  A secret government agency recruits some of th...            David Ayer   \n",
      "\n",
      "                                              Actors  Year  Runtime (Minutes)  \\\n",
      "0  Chris Pratt, Vin Diesel, Bradley Cooper, Zoe S...  2014                121   \n",
      "1  Noomi Rapace, Logan Marshall-Green, Michael Fa...  2012                124   \n",
      "2  James McAvoy, Anya Taylor-Joy, Haley Lu Richar...  2016                117   \n",
      "3  Matthew McConaughey,Reese Witherspoon, Seth Ma...  2016                108   \n",
      "4  Will Smith, Jared Leto, Margot Robbie, Viola D...  2016                123   \n",
      "\n",
      "   Rating   Votes  Revenue (Millions)  Metascore  \n",
      "0     8.1  757074              333.13       76.0  \n",
      "1     7.0  485820              126.46       65.0  \n",
      "2     7.3  157606              138.12       62.0  \n",
      "3     7.2   60545              270.32       59.0  \n",
      "4     6.2  393727              325.02       40.0  \n"
     ]
    }
   ],
   "source": [
    "# Use the head() function to view the first 5 rows of the data set\n",
    "\n",
    "print(movie_data.head(5))\n"
   ]
  },
  {
   "cell_type": "code",
   "execution_count": 32,
   "id": "3fffca4b-90f4-4f73-a9af-f0b02886f8b3",
   "metadata": {},
   "outputs": [
    {
     "name": "stdout",
     "output_type": "stream",
     "text": [
      "     Rank                   Title                  Genre  \\\n",
      "995   996    Secret in Their Eyes    Crime,Drama,Mystery   \n",
      "996   997         Hostel: Part II                 Horror   \n",
      "997   998  Step Up 2: The Streets    Drama,Music,Romance   \n",
      "998   999            Search Party       Adventure,Comedy   \n",
      "999  1000              Nine Lives  Comedy,Family,Fantasy   \n",
      "\n",
      "                                           Description          Director  \\\n",
      "995  A tight-knit team of rising investigators, alo...         Billy Ray   \n",
      "996  Three American college students studying abroa...          Eli Roth   \n",
      "997  Romantic sparks occur between two dance studen...        Jon M. Chu   \n",
      "998  A pair of friends embark on a mission to reuni...    Scot Armstrong   \n",
      "999  A stuffy businessman finds himself trapped ins...  Barry Sonnenfeld   \n",
      "\n",
      "                                                Actors  Year  \\\n",
      "995  Chiwetel Ejiofor, Nicole Kidman, Julia Roberts...  2015   \n",
      "996  Lauren German, Heather Matarazzo, Bijou Philli...  2007   \n",
      "997  Robert Hoffman, Briana Evigan, Cassie Ventura,...  2008   \n",
      "998  Adam Pally, T.J. Miller, Thomas Middleditch,Sh...  2014   \n",
      "999  Kevin Spacey, Jennifer Garner, Robbie Amell,Ch...  2016   \n",
      "\n",
      "     Runtime (Minutes)  Rating  Votes  Revenue (Millions)  Metascore  \n",
      "995                111     6.2  27585                 NaN       45.0  \n",
      "996                 94     5.5  73152               17.54       46.0  \n",
      "997                 98     6.2  70699               58.01       50.0  \n",
      "998                 93     5.6   4881                 NaN       22.0  \n",
      "999                 87     5.3  12435               19.64       11.0  \n"
     ]
    }
   ],
   "source": [
    "# Use the tail() function to view the last 5 rows of the data set\n",
    "print(movie_data.tail(5))\n"
   ]
  },
  {
   "cell_type": "markdown",
   "id": "e03bbc57-a8cf-48da-9057-3b1f6b642a08",
   "metadata": {},
   "source": [
    "### 3. Understand basic information about the data\n",
    "#### As we go through this section, write your own definitions of what each function does as a comment in the code box."
   ]
  },
  {
   "cell_type": "code",
   "execution_count": 33,
   "id": "f303e7fb-0e02-48e2-8390-66eefca899aa",
   "metadata": {},
   "outputs": [
    {
     "name": "stdout",
     "output_type": "stream",
     "text": [
      "<class 'pandas.core.frame.DataFrame'>\n",
      "RangeIndex: 1000 entries, 0 to 999\n",
      "Data columns (total 12 columns):\n",
      " #   Column              Non-Null Count  Dtype  \n",
      "---  ------              --------------  -----  \n",
      " 0   Rank                1000 non-null   int64  \n",
      " 1   Title               1000 non-null   object \n",
      " 2   Genre               1000 non-null   object \n",
      " 3   Description         1000 non-null   object \n",
      " 4   Director            1000 non-null   object \n",
      " 5   Actors              1000 non-null   object \n",
      " 6   Year                1000 non-null   int64  \n",
      " 7   Runtime (Minutes)   1000 non-null   int64  \n",
      " 8   Rating              1000 non-null   float64\n",
      " 9   Votes               1000 non-null   int64  \n",
      " 10  Revenue (Millions)  872 non-null    float64\n",
      " 11  Metascore           936 non-null    float64\n",
      "dtypes: float64(3), int64(4), object(5)\n",
      "memory usage: 93.9+ KB\n",
      "None\n"
     ]
    }
   ],
   "source": [
    "# The info() function: \n",
    "print(movie_data.info())\n"
   ]
  },
  {
   "cell_type": "code",
   "execution_count": 34,
   "id": "ade5ce1f-7a2a-4940-a0f9-eed7891154ff",
   "metadata": {},
   "outputs": [
    {
     "ename": "SyntaxError",
     "evalue": "invalid syntax (2099958639.py, line 5)",
     "output_type": "error",
     "traceback": [
      "\u001b[1;36m  Cell \u001b[1;32mIn[34], line 5\u001b[1;36m\u001b[0m\n\u001b[1;33m    Returns the number of rows and columns in the dataframe.(rows,columns)\u001b[0m\n\u001b[1;37m            ^\u001b[0m\n\u001b[1;31mSyntaxError\u001b[0m\u001b[1;31m:\u001b[0m invalid syntax\n"
     ]
    }
   ],
   "source": [
    "# shape:\n",
    "print(movie_data.shape)\n",
    "\n",
    "# what information does shape provide?  what is the order?\n",
    "#Returns the number of rows and columns in the dataframe.(rows,columns)\n"
   ]
  },
  {
   "cell_type": "code",
   "execution_count": 35,
   "id": "791db782-5041-4259-a3e4-d14c6e2e248a",
   "metadata": {},
   "outputs": [
    {
     "ename": "SyntaxError",
     "evalue": "invalid syntax (3606400601.py, line 5)",
     "output_type": "error",
     "traceback": [
      "\u001b[1;36m  Cell \u001b[1;32mIn[35], line 5\u001b[1;36m\u001b[0m\n\u001b[1;33m    List of columns in the data frame\u001b[0m\n\u001b[1;37m         ^\u001b[0m\n\u001b[1;31mSyntaxError\u001b[0m\u001b[1;31m:\u001b[0m invalid syntax\n"
     ]
    }
   ],
   "source": [
    "# columns:\n",
    "print(movie_data.columns)\n",
    "\n",
    "# what information does columns provide?\n",
    "#List of columns in the data frame"
   ]
  },
  {
   "cell_type": "code",
   "execution_count": 29,
   "id": "994c8783-3f4b-4f56-b9fb-1b50193f1fab",
   "metadata": {},
   "outputs": [
    {
     "name": "stdout",
     "output_type": "stream",
     "text": [
      "              Rank         Year  Runtime (Minutes)       Rating         Votes  \\\n",
      "count  1000.000000  1000.000000        1000.000000  1000.000000  1.000000e+03   \n",
      "mean    500.500000  2012.783000         113.172000     6.723200  1.698083e+05   \n",
      "std     288.819436     3.205962          18.810908     0.945429  1.887626e+05   \n",
      "min       1.000000  2006.000000          66.000000     1.900000  6.100000e+01   \n",
      "25%     250.750000  2010.000000         100.000000     6.200000  3.630900e+04   \n",
      "50%     500.500000  2014.000000         111.000000     6.800000  1.107990e+05   \n",
      "75%     750.250000  2016.000000         123.000000     7.400000  2.399098e+05   \n",
      "max    1000.000000  2016.000000         191.000000     9.000000  1.791916e+06   \n",
      "\n",
      "       Revenue (Millions)   Metascore  \n",
      "count          872.000000  936.000000  \n",
      "mean            82.956376   58.985043  \n",
      "std            103.253540   17.194757  \n",
      "min              0.000000   11.000000  \n",
      "25%             13.270000   47.000000  \n",
      "50%             47.985000   59.500000  \n",
      "75%            113.715000   72.000000  \n",
      "max            936.630000  100.000000  \n"
     ]
    }
   ],
   "source": [
    "# The describe() function: \n",
    "print(movie_data.describe())\n"
   ]
  },
  {
   "cell_type": "markdown",
   "id": "7293ea51-6d32-43ab-8d26-268bdea21de1",
   "metadata": {},
   "source": [
    "### 4. Data Selection -- Indexing and Slicing"
   ]
  },
  {
   "cell_type": "code",
   "execution_count": 30,
   "id": "b3e134af-4ef9-4a9f-9ee1-d507905764e7",
   "metadata": {},
   "outputs": [
    {
     "name": "stdout",
     "output_type": "stream",
     "text": [
      "0       Action,Adventure,Sci-Fi\n",
      "1      Adventure,Mystery,Sci-Fi\n",
      "2               Horror,Thriller\n",
      "3       Animation,Comedy,Family\n",
      "4      Action,Adventure,Fantasy\n",
      "                 ...           \n",
      "995         Crime,Drama,Mystery\n",
      "996                      Horror\n",
      "997         Drama,Music,Romance\n",
      "998            Adventure,Comedy\n",
      "999       Comedy,Family,Fantasy\n",
      "Name: Genre, Length: 1000, dtype: object\n"
     ]
    }
   ],
   "source": [
    "#  Extract data as series\n",
    "genre = movie_data['Genre']\n",
    "# define and print the variable 'genre'\n",
    "print(genre)\n"
   ]
  },
  {
   "cell_type": "code",
   "execution_count": 36,
   "id": "33307a39-0656-4598-8489-55bc80a253eb",
   "metadata": {},
   "outputs": [
    {
     "name": "stdout",
     "output_type": "stream",
     "text": [
      "                                         Description            Director  \\\n",
      "0  A group of intergalactic criminals are forced ...          James Gunn   \n",
      "1  Following clues to the origin of mankind, a te...        Ridley Scott   \n",
      "2  Three girls are kidnapped by a man with a diag...  M. Night Shyamalan   \n",
      "\n",
      "                                              Actors  \n",
      "0  Chris Pratt, Vin Diesel, Bradley Cooper, Zoe S...  \n",
      "1  Noomi Rapace, Logan Marshall-Green, Michael Fa...  \n",
      "2  James McAvoy, Anya Taylor-Joy, Haley Lu Richar...  \n"
     ]
    }
   ],
   "source": [
    "# Extract the data as a dataframe and print it\n",
    "movie_data_subset = movie_data.iloc[0:3,3:6]\n",
    "print(movie_data_subset)"
   ]
  },
  {
   "cell_type": "code",
   "execution_count": 39,
   "id": "0530ffd1-e143-4a7a-a4e2-c2e88de188f9",
   "metadata": {},
   "outputs": [
    {
     "name": "stdout",
     "output_type": "stream",
     "text": [
      "Rank                                                                  1\n",
      "Title                                           Guardians of the Galaxy\n",
      "Genre                                           Action,Adventure,Sci-Fi\n",
      "Description           A group of intergalactic criminals are forced ...\n",
      "Director                                                     James Gunn\n",
      "Actors                Chris Pratt, Vin Diesel, Bradley Cooper, Zoe S...\n",
      "Year                                                               2014\n",
      "Runtime (Minutes)                                                   121\n",
      "Rating                                                              8.1\n",
      "Votes                                                            757074\n",
      "Revenue (Millions)                                               333.13\n",
      "Metascore                                                          76.0\n",
      "Name: 0, dtype: object\n"
     ]
    }
   ],
   "source": [
    "# Extract data using rows\n",
    "\n",
    "# loc function\n",
    "print(movie_data.loc[0])\n"
   ]
  },
  {
   "cell_type": "code",
   "execution_count": 38,
   "id": "7ed5a16d-7302-4c0c-bf9e-0295a8cee090",
   "metadata": {},
   "outputs": [
    {
     "name": "stdout",
     "output_type": "stream",
     "text": [
      "Rank                                                                  4\n",
      "Title                                                              Sing\n",
      "Genre                                           Animation,Comedy,Family\n",
      "Description           In a city of humanoid animals, a hustling thea...\n",
      "Director                                           Christophe Lourdelet\n",
      "Actors                Matthew McConaughey,Reese Witherspoon, Seth Ma...\n",
      "Year                                                               2016\n",
      "Runtime (Minutes)                                                   108\n",
      "Rating                                                              7.2\n",
      "Votes                                                             60545\n",
      "Revenue (Millions)                                               270.32\n",
      "Metascore                                                          59.0\n",
      "Name: 3, dtype: object\n"
     ]
    }
   ],
   "source": [
    "# iloc function\n",
    "print(movie_data.iloc[3])\n"
   ]
  },
  {
   "cell_type": "markdown",
   "id": "35d10282-730f-49c3-bca1-55a990811c80",
   "metadata": {},
   "source": [
    "### 5. Data Selection - Based on Conditional Filtering"
   ]
  },
  {
   "cell_type": "code",
   "execution_count": 50,
   "id": "97cac6a1-dd88-4a8c-86e8-514312bf1bb0",
   "metadata": {},
   "outputs": [
    {
     "name": "stdout",
     "output_type": "stream",
     "text": [
      "     Rank                                      Title                    Genre  \\\n",
      "941   942                 The Twilight Saga: Eclipse  Adventure,Drama,Fantasy   \n",
      "366   367  The Twilight Saga: Breaking Dawn - Part 2  Adventure,Drama,Fantasy   \n",
      "925   926  The Twilight Saga: Breaking Dawn - Part 1  Adventure,Drama,Fantasy   \n",
      "126   127            Transformers: Age of Extinction  Action,Adventure,Sci-Fi   \n",
      "657   658               Teenage Mutant Ninja Turtles  Action,Adventure,Comedy   \n",
      "\n",
      "                                           Description            Director  \\\n",
      "941  As a string of mysterious killings grips Seatt...         David Slade   \n",
      "366  After the birth of Renesmee, the Cullens gathe...         Bill Condon   \n",
      "925  The Quileutes close in on expecting parents Ed...         Bill Condon   \n",
      "126  Autobots must escape sight from a bounty hunte...         Michael Bay   \n",
      "657  When a kingpin threatens New York City, a grou...  Jonathan Liebesman   \n",
      "\n",
      "                                                Actors  Year  \\\n",
      "941  Kristen Stewart, Robert Pattinson, Taylor Laut...  2010   \n",
      "366  Kristen Stewart, Robert Pattinson, Taylor Laut...  2012   \n",
      "925  Kristen Stewart, Robert Pattinson, Taylor Laut...  2011   \n",
      "126  Mark Wahlberg, Nicola Peltz, Jack Reynor, Stan...  2014   \n",
      "657  Megan Fox, Will Arnett, William Fichtner, Noel...  2014   \n",
      "\n",
      "     Runtime (Minutes)  Rating   Votes  Revenue (Millions)  Metascore  \n",
      "941                124     4.9  192740              300.52       58.0  \n",
      "366                115     5.5  194329              292.30       52.0  \n",
      "925                117     4.9  190244              281.28       45.0  \n",
      "126                165     5.7  255483              245.43       32.0  \n",
      "657                101     5.9  178527              190.87       31.0  \n"
     ]
    }
   ],
   "source": [
    "# Use the code block to select movies that have been released between 2010-2016, with a rating of less than 6.0, but generated a signifianct (top) revenue.\n",
    "print(movie_data.loc[(movie_data['Year'] >=  2010) & (movie_data['Year'] <=  2016) & (movie_data['Rating'] < 6.0)].sort_values(by='Revenue (Millions)',ascending=False).head(5))\n"
   ]
  },
  {
   "cell_type": "code",
   "execution_count": 61,
   "id": "f0c045a1-200a-4d58-9b9f-480edb106765",
   "metadata": {},
   "outputs": [
    {
     "data": {
      "text/html": [
       "<div>\n",
       "<style scoped>\n",
       "    .dataframe tbody tr th:only-of-type {\n",
       "        vertical-align: middle;\n",
       "    }\n",
       "\n",
       "    .dataframe tbody tr th {\n",
       "        vertical-align: top;\n",
       "    }\n",
       "\n",
       "    .dataframe thead th {\n",
       "        text-align: right;\n",
       "    }\n",
       "</style>\n",
       "<table border=\"1\" class=\"dataframe\">\n",
       "  <thead>\n",
       "    <tr style=\"text-align: right;\">\n",
       "      <th></th>\n",
       "      <th>Rank</th>\n",
       "      <th>Title</th>\n",
       "      <th>Genre</th>\n",
       "      <th>Description</th>\n",
       "      <th>Director</th>\n",
       "      <th>Actors</th>\n",
       "      <th>Year</th>\n",
       "      <th>Runtime (Minutes)</th>\n",
       "      <th>Rating</th>\n",
       "      <th>Votes</th>\n",
       "      <th>Revenue (Millions)</th>\n",
       "      <th>Metascore</th>\n",
       "    </tr>\n",
       "  </thead>\n",
       "  <tbody>\n",
       "    <tr>\n",
       "      <th>941</th>\n",
       "      <td>942</td>\n",
       "      <td>The Twilight Saga: Eclipse</td>\n",
       "      <td>Adventure,Drama,Fantasy</td>\n",
       "      <td>As a string of mysterious killings grips Seatt...</td>\n",
       "      <td>David Slade</td>\n",
       "      <td>Kristen Stewart, Robert Pattinson, Taylor Laut...</td>\n",
       "      <td>2010</td>\n",
       "      <td>124</td>\n",
       "      <td>4.9</td>\n",
       "      <td>192740</td>\n",
       "      <td>300.52</td>\n",
       "      <td>58.0</td>\n",
       "    </tr>\n",
       "  </tbody>\n",
       "</table>\n",
       "</div>"
      ],
      "text/plain": [
       "     Rank                       Title                    Genre  \\\n",
       "941   942  The Twilight Saga: Eclipse  Adventure,Drama,Fantasy   \n",
       "\n",
       "                                           Description     Director  \\\n",
       "941  As a string of mysterious killings grips Seatt...  David Slade   \n",
       "\n",
       "                                                Actors  Year  \\\n",
       "941  Kristen Stewart, Robert Pattinson, Taylor Laut...  2010   \n",
       "\n",
       "     Runtime (Minutes)  Rating   Votes  Revenue (Millions)  Metascore  \n",
       "941                124     4.9  192740              300.52       58.0  "
      ]
     },
     "execution_count": 61,
     "metadata": {},
     "output_type": "execute_result"
    }
   ],
   "source": [
    "# Note: The article is expecting more than 1 Twilight movie at the time of publishing.  \n",
    "#To find the second Twilight movie, try manipulating the quantile value.  \n",
    "#How specific can you get?\n",
    "twilight_df=movie_data[(movie_data['Title'].str.contains('Twilight'))]\n",
    "twilight_df=twilight_df[(twilight_df['Year']==round(twilight_df['Year'].quantile(.5),0))]\n",
    "twilight_df"
   ]
  },
  {
   "cell_type": "code",
   "execution_count": null,
   "id": "5f04a46e-5d8e-4bda-a917-945bdc81a9e2",
   "metadata": {},
   "outputs": [],
   "source": []
  },
  {
   "cell_type": "code",
   "execution_count": null,
   "id": "c890bdb0-3e60-4d39-b185-fc1d31d099fd",
   "metadata": {},
   "outputs": [],
   "source": []
  }
 ],
 "metadata": {
  "kernelspec": {
   "display_name": "Python 3 (ipykernel)",
   "language": "python",
   "name": "python3"
  },
  "language_info": {
   "codemirror_mode": {
    "name": "ipython",
    "version": 3
   },
   "file_extension": ".py",
   "mimetype": "text/x-python",
   "name": "python",
   "nbconvert_exporter": "python",
   "pygments_lexer": "ipython3",
   "version": "3.12.4"
  }
 },
 "nbformat": 4,
 "nbformat_minor": 5
}

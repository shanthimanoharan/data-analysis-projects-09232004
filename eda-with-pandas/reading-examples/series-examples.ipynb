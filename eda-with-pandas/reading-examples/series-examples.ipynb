{
 "cells": [
  {
   "cell_type": "markdown",
   "id": "bf0382ab-a1c6-4393-97b1-87820c77fbe3",
   "metadata": {},
   "source": [
    "## Using a List"
   ]
  },
  {
   "cell_type": "code",
   "execution_count": null,
   "id": "68bafca7-eaff-499d-9207-57dc9db52896",
   "metadata": {},
   "outputs": [],
   "source": [
    "# import pandas\n",
    "import pandas as pd\n",
    "\n",
    "# Create a pandas Series by providing a list\n",
    "example_list = pd.Series([\"apple\", \"banana\", \"avocado\", \"honey dew\"])\n",
    "\n",
    "# Create a pandas Series from a pre-existing list of values\n",
    "pre_existing_list = [\"apple\", \"banana\", \"avocado\", \"honey dew\"]\n",
    "\n",
    "series_from_existing_list = pd.Series(pre_existing_list)"
   ]
  },
  {
   "cell_type": "markdown",
   "id": "31e333ee-68a0-4025-bbc1-f26b3c18d8ab",
   "metadata": {},
   "source": [
    "## Using a Dictionary"
   ]
  },
  {
   "cell_type": "code",
   "execution_count": null,
   "id": "afbe8e65-5e93-42ed-9997-fc7619114284",
   "metadata": {},
   "outputs": [],
   "source": [
    "# import pandas\n",
    "import pandas as pd\n",
    "\n",
    "# Create a pandas Series by providing a dictionary, the i represents the index of the dictionary\n",
    "example_dictionary = pd.Series({'0': \"apple\", '1': \"banana\", '2': \"avocado\", '3': \"honey dew\"})\n",
    "\n",
    "# Create a pandas Series from a pre-existing dictionary, the i represents the index of the dictionary\n",
    "pre_existing_dictionary = {'0': \"apple\", '1': \"banana\", '2': \"avocado\", '3': \"honey dew\"}\n",
    "\n",
    "series_from_existing_dictionary = pd.Series(pre_existing_dictionary)"
   ]
  },
  {
   "cell_type": "markdown",
   "id": "8c235822-53ea-4892-899b-1c9c1a15c7d0",
   "metadata": {},
   "source": [
    "## Using a Tuple"
   ]
  },
  {
   "cell_type": "code",
   "execution_count": null,
   "id": "d7b0d023-4760-4492-a546-1e6142cfb173",
   "metadata": {},
   "outputs": [],
   "source": [
    "# import pandas\n",
    "import pandas as pd\n",
    "\n",
    "# Create a pandas Series by providing a tuple\n",
    "example_tuple = pd.Series((\"Interstellar\", \"Pride and Prejudice\", \"Inception\", \"Barbie\"))\n",
    "\n",
    "# Create a pandas Series by providing a pre-existing tuple\n",
    "pre_existing_tuple = (\"Interstellar\", \"Pride and Prejudice\", \"Inception\", \"Barbie\")\n",
    "\n",
    "series_from_existing_tuple = pd.Series(pre_existing_tuple)"
   ]
  },
  {
   "cell_type": "markdown",
   "id": "6a476fda-07ba-49e5-84da-68ba5a860137",
   "metadata": {},
   "source": [
    "## Indexing and Naming"
   ]
  },
  {
   "cell_type": "code",
   "execution_count": null,
   "id": "c271aea4-e372-4245-bd69-54a23d4f3fc2",
   "metadata": {},
   "outputs": [],
   "source": [
    "fruit_color = [\"red\", \"yellow\", \"green\", \"green\"]\n",
    "\n",
    "custom_fruit_labels = pd.Series([\"apple\", \"banana\", \"avocado\", \"honey dew\"], index = fruit_color)"
   ]
  },
  {
   "cell_type": "markdown",
   "id": "2cd44881-2758-408d-a7d3-a698a7a99425",
   "metadata": {},
   "source": [
    "## Subsetting a Series"
   ]
  },
  {
   "cell_type": "code",
   "execution_count": null,
   "id": "c36fdf5a-8b60-417d-9990-a00a0663f04a",
   "metadata": {},
   "outputs": [],
   "source": [
    "# import pandas\n",
    "import pandas as pd\n",
    "\n",
    "# Create a pandas Series from a pre-existing dictionary, the i represents the index of the dictionary\n",
    "fruit_data = {'0': \"apple\", '1': \"banana\", '2': \"avocado\", '3': \"honey dew\"}\n",
    "\n",
    "# create a series from the fruit_data\n",
    "fruit_series = pd.Series(fruit_data)\n",
    "\n",
    "# Subset the existing series\n",
    "subset_fruit = fruit_series[:2]\n",
    "\n",
    "# Print the subset\n",
    "print(subset_fruit)\n",
    "\n",
    "# Subset Series to include elements from index 1 to 3\n",
    "subset_fruit_twice = fruit_series[1:4]\n",
    "# Print the series\n",
    "print(\"Subset elements from index 1 to 3\")\n",
    "print(subset_fruit_twice)"
   ]
  }
 ],
 "metadata": {
  "kernelspec": {
   "display_name": "Python 3 (ipykernel)",
   "language": "python",
   "name": "python3"
  },
  "language_info": {
   "codemirror_mode": {
    "name": "ipython",
    "version": 3
   },
   "file_extension": ".py",
   "mimetype": "text/x-python",
   "name": "python",
   "nbconvert_exporter": "python",
   "pygments_lexer": "ipython3",
   "version": "3.10.12"
  }
 },
 "nbformat": 4,
 "nbformat_minor": 5
}

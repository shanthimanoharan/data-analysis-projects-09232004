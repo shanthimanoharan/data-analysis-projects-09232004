{
    "metadata": {
        "kernelspec": {
            "name": "SQL",
            "display_name": "SQL",
            "language": "sql"
        },
        "language_info": {
            "name": "sql",
            "version": ""
        }
    },
    "nbformat_minor": 2,
    "nbformat": 4,
    "cells": [
        {
            "cell_type": "markdown",
            "source": [
                "# SQL Part 5 Studio:  A Library Service\n",
                "\n",
                "## Setting Up Your Data\n",
                "\n",
                "You will be creating 5 new tables within your own schema.\n",
                "\n",
                "4 of the tables can be populated using the starter code which can be found in the `data` folder.\n",
                "\n",
                "After setting up the data you should have the following five tables:\n",
                "\n",
                "1. `book`\n",
                "2. `author`\n",
                "3. `patron`\n",
                "4. `genre`\n",
                "5. `loan`"
            ],
            "metadata": {
                "azdata_cell_guid": "c0905c80-f08e-46b6-b379-2cfae6c270f9"
            }
        },
        {
            "cell_type": "markdown",
            "source": [
                "## **Part A: Setting Up Your Tables**\n",
                "\n",
                "### **Book Table**\n",
                "\n",
                "To create the **book** table, you can use the following SQL query:\n",
                "\n",
                "```\n",
                "CREATE TABLE [DB].[schema].book (\n",
                "    book_id INT IDENTITY(1,1) PRIMARY KEY,\n",
                "    author_id INT,\n",
                "    title VARCHAR(255),\n",
                "    isbn INT,\n",
                "    available BIT,\n",
                "    genre_id INT\n",
                ");\n",
                "```\n",
                "\n",
                "_A few notes on this syntax:_\n",
                "\n",
                "> On Auto-incrementing:\n",
                "> We are going to have SQL help us assign book\\\\_id numbers using auto-incrementing using the **IDENTITY** property.\n",
                "> The [IDENTITY](https://docs.microsoft.com/en-us/sql/t-sql/statements/create-table-transact-sql-identity-property?view=sql-server-ver15) syntax is as follows: **IDENTITY(seed, increment)**.  We want to seed the first id number as 1 in this table and increment by 1 for each following book\\\\_id.\n",
                "> On BIT datatypes:\n",
                "> For the **available** column, we are going to use the [BIT datatype](https://docs.microsoft.com/en-us/sql/t-sql/data-types/bit-transact-sql?view=sql-server-ver15) to represent True or False values.  Bit allows three entries: 0 which will stand for false,  1 which will stand for true,  and NULL.\n",
                "> On CREATE TABLES:\n",
                "> You may only create a table once.  You may comment out your creation query once you run it."
            ],
            "metadata": {
                "azdata_cell_guid": "9a7f94c8-24ff-4627-8cd9-e828b0059ddc"
            }
        },
        {
            "cell_type": "code",
            "source": [
                "-- Create the book table here.  Update the name of the database and schema.\r\n",
                "CREATE TABLE May2024JunkDB.shanthi.book (\r\n",
                "    book_id INT IDENTITY(1,1) PRIMARY KEY,\r\n",
                "    author_id INT,\r\n",
                "    title VARCHAR(255),\r\n",
                "    isbn INT,\r\n",
                "    available BIT,\r\n",
                "    genre_id INT\r\n",
                ");"
            ],
            "metadata": {
                "vscode": {
                    "languageId": "sql"
                },
                "azdata_cell_guid": "6c324251-639c-4a86-8b44-17eb301c9401",
                "language": "sql"
            },
            "outputs": [
                {
                    "output_type": "display_data",
                    "data": {
                        "text/html": "Commands completed successfully."
                    },
                    "metadata": {}
                },
                {
                    "output_type": "display_data",
                    "data": {
                        "text/html": "Total execution time: 00:00:00.031"
                    },
                    "metadata": {}
                }
            ],
            "execution_count": 1
        },
        {
            "cell_type": "markdown",
            "source": [
                "### Populate the **book** table\n",
                "\n",
                "For the starter data, use the `book_data.ipynb` notebook.\n",
                "\n",
                "> You may copy/paste the commands into the next code block.  You will need to update each INSERT statement to contain the names of your database and schema."
            ],
            "metadata": {
                "azdata_cell_guid": "d63979b0-7347-4fe2-8eea-7dc7e339437a"
            }
        },
        {
            "cell_type": "code",
            "source": [
                "-- Paste the book data values in this code box.  Be sure to update database and schema names.\r\n",
                "INSERT INTO May2024JunkDB.shanthi.book(author_id, title, isbn, available, genre_id)\r\n",
                "VALUES (2, 'A Midsummers Night Dream', 978149413, 1, 23)\r\n",
                "\r\n",
                "INSERT INTO May2024JunkDB.shanthi.book(author_id, title, isbn, available, genre_id)\r\n",
                "VALUES (2, 'Romeo and Juliet', 988535196, 1, 3);\r\n",
                "\r\n",
                "INSERT INTO May2024JunkDB.shanthi.book(author_id, title, isbn, available, genre_id)\r\n",
                "VALUES (1, 'The Golden Compass', 451664226, 1, 1);\r\n",
                "\r\n",
                "INSERT INTO May2024JunkDB.shanthi.book(author_id, title, isbn, available, genre_id)\r\n",
                "VALUES (1, 'The Subtle Knife', 160419390, 1, 1);\r\n",
                "\r\n",
                "INSERT INTO May2024JunkDB.shanthi.book(author_id, title, isbn, available, genre_id)\r\n",
                "VALUES (1, 'The Amber Spyglass', 94387895, 1, 1);\r\n",
                "\r\n",
                "INSERT INTO May2024JunkDB.shanthi.book(author_id, title, isbn, available, genre_id)\r\n",
                "VALUES (3, 'The Alchemist', 464069772, 1, 2);\r\n",
                "\r\n",
                "INSERT INTO May2024JunkDB.shanthi.book(author_id, title, isbn, available, genre_id)\r\n",
                "VALUES (4, 'And Then There Were None', 335973357, 1, 6);\r\n",
                "\r\n",
                "INSERT INTO May2024JunkDB.shanthi.book(author_id, title, isbn, available, genre_id)\r\n",
                "VALUES (5, 'The Joy Luck Club', 990050329, 1, 10);\r\n",
                "\r\n",
                "INSERT INTO May2024JunkDB.shanthi.book(author_id, title, isbn, available, genre_id)\r\n",
                "VALUES (5, 'The Moon Lady', 91720786, 1, 24);\r\n",
                "\r\n",
                "INSERT INTO May2024JunkDB.shanthi.book(author_id, title, isbn, available, genre_id)\r\n",
                "VALUES (6, 'Sense and Sensibility', 156879860, 1, 2);\r\n",
                "\r\n",
                "INSERT INTO May2024JunkDB.shanthi.book(author_id, title, isbn, available, genre_id)\r\n",
                "VALUES (6, 'Northanger Abbey', 951273178, 1, 3);\r\n",
                "\r\n",
                "INSERT INTO May2024JunkDB.shanthi.book(author_id, title, isbn, available, genre_id)\r\n",
                "VALUES (6, 'Pride and Prejudice', 415886839, 1, 3);\r\n",
                "\r\n",
                "INSERT INTO May2024JunkDB.shanthi.book(author_id, title, isbn, available, genre_id)\r\n",
                "VALUES (6, 'Mansfield Park', 188534067, 1, 3);\r\n",
                "\r\n",
                "INSERT INTO May2024JunkDB.shanthi.book(author_id, title, isbn, available, genre_id)\r\n",
                "VALUES (6, 'Emma', 994896202, 1, 3);\r\n",
                "\r\n",
                "INSERT INTO May2024JunkDB.shanthi.book(author_id, title, isbn, available, genre_id)\r\n",
                "VALUES (6, 'Persuasion', 28150097, 1, 3);\r\n",
                "\r\n",
                "INSERT INTO May2024JunkDB.shanthi.book(author_id, title, isbn, available, genre_id)\r\n",
                "VALUES (6, 'Lady Susan', 230962926, 1, 3);\r\n",
                "\r\n",
                "INSERT INTO May2024JunkDB.shanthi.book(author_id, title, isbn, available, genre_id)\r\n",
                "VALUES (7, 'Wuthering Heights', 280569946, 1, 3);\r\n",
                "\r\n",
                "INSERT INTO May2024JunkDB.shanthi.book(author_id, title, isbn, available, genre_id)\r\n",
                "VALUES (8, 'The Handmaids Tale', 639239663, 1, 5);\r\n",
                "\r\n",
                "INSERT INTO May2024JunkDB.shanthi.book(author_id, title, isbn, available, genre_id)\r\n",
                "VALUES (8, 'The Testaments', 826875490, 1, 5);\r\n",
                "\r\n",
                "INSERT INTO May2024JunkDB.shanthi.book(author_id, title, isbn, available, genre_id)\r\n",
                "VALUES (9, 'The Parable of the Sower', 283359358, 1, 5);\r\n",
                "\r\n",
                "INSERT INTO May2024JunkDB.shanthi.book(author_id, title, isbn, available, genre_id)\r\n",
                "VALUES (10, 'Little Women', 495409887, 1, 23);\r\n",
                "\r\n",
                "INSERT INTO May2024JunkDB.shanthi.book(author_id, title, isbn, available, genre_id)\r\n",
                "VALUES (11, 'Still Life', 455128657, 1, 6);\r\n",
                "\r\n",
                "INSERT INTO May2024JunkDB.shanthi.book(author_id, title, isbn, available, genre_id)\r\n",
                "VALUES (11, 'A Fatal Grace', 832517012, 1, 6);\r\n",
                "\r\n",
                "INSERT INTO May2024JunkDB.shanthi.book(author_id, title, isbn, available, genre_id)\r\n",
                "VALUES (11, 'The Cruelest Month', 419285319, 1, 6);\r\n",
                "\r\n",
                "INSERT INTO May2024JunkDB.shanthi.book(author_id, title, isbn, available, genre_id)\r\n",
                "VALUES (11, 'The Murder Stone', 656621400, 1, 6);\r\n",
                "\r\n",
                "INSERT INTO May2024JunkDB.shanthi.book(author_id, title, isbn, available, genre_id)\r\n",
                "VALUES (11, 'The Brutal Telling', 144255852, 1, 6);\r\n",
                "\r\n",
                "INSERT INTO May2024JunkDB.shanthi.book(author_id, title, isbn, available, genre_id)\r\n",
                "VALUES (11, 'Bury Your Dead', 208180961, 1, 6);\r\n",
                "\r\n",
                "INSERT INTO May2024JunkDB.shanthi.book(author_id, title, isbn, available, genre_id)\r\n",
                "VALUES (11, 'A Trick of the Light', 93451531, 1, 6);\r\n",
                "\r\n",
                "INSERT INTO May2024JunkDB.shanthi.book(author_id, title, isbn, available, genre_id)\r\n",
                "VALUES (12, 'Midnights Children', 881082293, 1, 10);\r\n",
                "\r\n",
                "INSERT INTO May2024JunkDB.shanthi.book(author_id, title, isbn, available, genre_id)\r\n",
                "VALUES (13, 'Dont Let the Pigeon Drive the Bus!', 18409532, 1, 24);\r\n",
                "\r\n",
                "INSERT INTO May2024JunkDB.shanthi.book(author_id, title, isbn, available, genre_id)\r\n",
                "VALUES (14, 'Beezus and Ramona', 744412630, 1, 24);\r\n",
                "\r\n",
                "INSERT INTO May2024JunkDB.shanthi.book(author_id, title, isbn, available, genre_id)\r\n",
                "VALUES (15, 'Organic Chemistry', 604328803, 1, 25);\r\n",
                "\r\n",
                "INSERT INTO May2024JunkDB.shanthi.book(author_id, title, isbn, available, genre_id)\r\n",
                "VALUES (16, 'I Know Why the Caged Bird Sings', 909947112, 1, 12);\r\n",
                "\r\n",
                "INSERT INTO May2024JunkDB.shanthi.book(author_id, title, isbn, available, genre_id)\r\n",
                "VALUES (17, 'Beloved', 46736233, 1, 10);\r\n",
                "\r\n",
                "INSERT INTO May2024JunkDB.shanthi.book(author_id, title, isbn, available, genre_id)\r\n",
                "VALUES (18, 'Brassbones and Rainbows', 330608463, 1, 26);"
            ],
            "metadata": {
                "vscode": {
                    "languageId": "sql"
                },
                "azdata_cell_guid": "3f2f5e61-95b9-4b7f-8ca4-11d9c9ff0d02",
                "language": "sql"
            },
            "outputs": [
                {
                    "output_type": "display_data",
                    "data": {
                        "text/html": "(1 row affected)"
                    },
                    "metadata": {}
                },
                {
                    "output_type": "display_data",
                    "data": {
                        "text/html": "(1 row affected)"
                    },
                    "metadata": {}
                },
                {
                    "output_type": "display_data",
                    "data": {
                        "text/html": "(1 row affected)"
                    },
                    "metadata": {}
                },
                {
                    "output_type": "display_data",
                    "data": {
                        "text/html": "(1 row affected)"
                    },
                    "metadata": {}
                },
                {
                    "output_type": "display_data",
                    "data": {
                        "text/html": "(1 row affected)"
                    },
                    "metadata": {}
                },
                {
                    "output_type": "display_data",
                    "data": {
                        "text/html": "(1 row affected)"
                    },
                    "metadata": {}
                },
                {
                    "output_type": "display_data",
                    "data": {
                        "text/html": "(1 row affected)"
                    },
                    "metadata": {}
                },
                {
                    "output_type": "display_data",
                    "data": {
                        "text/html": "(1 row affected)"
                    },
                    "metadata": {}
                },
                {
                    "output_type": "display_data",
                    "data": {
                        "text/html": "(1 row affected)"
                    },
                    "metadata": {}
                },
                {
                    "output_type": "display_data",
                    "data": {
                        "text/html": "(1 row affected)"
                    },
                    "metadata": {}
                },
                {
                    "output_type": "display_data",
                    "data": {
                        "text/html": "(1 row affected)"
                    },
                    "metadata": {}
                },
                {
                    "output_type": "display_data",
                    "data": {
                        "text/html": "(1 row affected)"
                    },
                    "metadata": {}
                },
                {
                    "output_type": "display_data",
                    "data": {
                        "text/html": "(1 row affected)"
                    },
                    "metadata": {}
                },
                {
                    "output_type": "display_data",
                    "data": {
                        "text/html": "(1 row affected)"
                    },
                    "metadata": {}
                },
                {
                    "output_type": "display_data",
                    "data": {
                        "text/html": "(1 row affected)"
                    },
                    "metadata": {}
                },
                {
                    "output_type": "display_data",
                    "data": {
                        "text/html": "(1 row affected)"
                    },
                    "metadata": {}
                },
                {
                    "output_type": "display_data",
                    "data": {
                        "text/html": "(1 row affected)"
                    },
                    "metadata": {}
                },
                {
                    "output_type": "display_data",
                    "data": {
                        "text/html": "(1 row affected)"
                    },
                    "metadata": {}
                },
                {
                    "output_type": "display_data",
                    "data": {
                        "text/html": "(1 row affected)"
                    },
                    "metadata": {}
                },
                {
                    "output_type": "display_data",
                    "data": {
                        "text/html": "(1 row affected)"
                    },
                    "metadata": {}
                },
                {
                    "output_type": "display_data",
                    "data": {
                        "text/html": "(1 row affected)"
                    },
                    "metadata": {}
                },
                {
                    "output_type": "display_data",
                    "data": {
                        "text/html": "(1 row affected)"
                    },
                    "metadata": {}
                },
                {
                    "output_type": "display_data",
                    "data": {
                        "text/html": "(1 row affected)"
                    },
                    "metadata": {}
                },
                {
                    "output_type": "display_data",
                    "data": {
                        "text/html": "(1 row affected)"
                    },
                    "metadata": {}
                },
                {
                    "output_type": "display_data",
                    "data": {
                        "text/html": "(1 row affected)"
                    },
                    "metadata": {}
                },
                {
                    "output_type": "display_data",
                    "data": {
                        "text/html": "(1 row affected)"
                    },
                    "metadata": {}
                },
                {
                    "output_type": "display_data",
                    "data": {
                        "text/html": "(1 row affected)"
                    },
                    "metadata": {}
                },
                {
                    "output_type": "display_data",
                    "data": {
                        "text/html": "(1 row affected)"
                    },
                    "metadata": {}
                },
                {
                    "output_type": "display_data",
                    "data": {
                        "text/html": "(1 row affected)"
                    },
                    "metadata": {}
                },
                {
                    "output_type": "display_data",
                    "data": {
                        "text/html": "(1 row affected)"
                    },
                    "metadata": {}
                },
                {
                    "output_type": "display_data",
                    "data": {
                        "text/html": "(1 row affected)"
                    },
                    "metadata": {}
                },
                {
                    "output_type": "display_data",
                    "data": {
                        "text/html": "(1 row affected)"
                    },
                    "metadata": {}
                },
                {
                    "output_type": "display_data",
                    "data": {
                        "text/html": "(1 row affected)"
                    },
                    "metadata": {}
                },
                {
                    "output_type": "display_data",
                    "data": {
                        "text/html": "(1 row affected)"
                    },
                    "metadata": {}
                },
                {
                    "output_type": "display_data",
                    "data": {
                        "text/html": "(1 row affected)"
                    },
                    "metadata": {}
                },
                {
                    "output_type": "display_data",
                    "data": {
                        "text/html": "Total execution time: 00:00:00.080"
                    },
                    "metadata": {}
                }
            ],
            "execution_count": 2
        },
        {
            "cell_type": "markdown",
            "source": [
                "### Test your data\n",
                "                \n",
                "Run a quick query of your choice to see if the book table was properly created"
            ],
            "metadata": {
                "azdata_cell_guid": "4ebe8173-733b-4db4-9701-658fa4f729a7"
            }
        },
        {
            "cell_type": "code",
            "source": [
                "-- test your book table here.\r\n",
                "select title\r\n",
                "FROM May2024JunkDB.shanthi.book"
            ],
            "metadata": {
                "vscode": {
                    "languageId": "sql"
                },
                "azdata_cell_guid": "c0392b81-d6a4-4cb3-ad8f-3cea66282d99",
                "language": "sql"
            },
            "outputs": [
                {
                    "output_type": "display_data",
                    "data": {
                        "text/html": "(35 rows affected)"
                    },
                    "metadata": {}
                },
                {
                    "output_type": "display_data",
                    "data": {
                        "text/html": "Total execution time: 00:00:00.039"
                    },
                    "metadata": {}
                },
                {
                    "output_type": "execute_result",
                    "execution_count": 3,
                    "data": {
                        "application/vnd.dataresource+json": {
                            "schema": {
                                "fields": [
                                    {
                                        "name": "title"
                                    }
                                ]
                            },
                            "data": [
                                {
                                    "title": "A Midsummers Night Dream"
                                },
                                {
                                    "title": "Romeo and Juliet"
                                },
                                {
                                    "title": "The Golden Compass"
                                },
                                {
                                    "title": "The Subtle Knife"
                                },
                                {
                                    "title": "The Amber Spyglass"
                                },
                                {
                                    "title": "The Alchemist"
                                },
                                {
                                    "title": "And Then There Were None"
                                },
                                {
                                    "title": "The Joy Luck Club"
                                },
                                {
                                    "title": "The Moon Lady"
                                },
                                {
                                    "title": "Sense and Sensibility"
                                },
                                {
                                    "title": "Northanger Abbey"
                                },
                                {
                                    "title": "Pride and Prejudice"
                                },
                                {
                                    "title": "Mansfield Park"
                                },
                                {
                                    "title": "Emma"
                                },
                                {
                                    "title": "Persuasion"
                                },
                                {
                                    "title": "Lady Susan"
                                },
                                {
                                    "title": "Wuthering Heights"
                                },
                                {
                                    "title": "The Handmaids Tale"
                                },
                                {
                                    "title": "The Testaments"
                                },
                                {
                                    "title": "The Parable of the Sower"
                                },
                                {
                                    "title": "Little Women"
                                },
                                {
                                    "title": "Still Life"
                                },
                                {
                                    "title": "A Fatal Grace"
                                },
                                {
                                    "title": "The Cruelest Month"
                                },
                                {
                                    "title": "The Murder Stone"
                                },
                                {
                                    "title": "The Brutal Telling"
                                },
                                {
                                    "title": "Bury Your Dead"
                                },
                                {
                                    "title": "A Trick of the Light"
                                },
                                {
                                    "title": "Midnights Children"
                                },
                                {
                                    "title": "Dont Let the Pigeon Drive the Bus!"
                                },
                                {
                                    "title": "Beezus and Ramona"
                                },
                                {
                                    "title": "Organic Chemistry"
                                },
                                {
                                    "title": "I Know Why the Caged Bird Sings"
                                },
                                {
                                    "title": "Beloved"
                                },
                                {
                                    "title": "Brassbones and Rainbows"
                                }
                            ]
                        },
                        "text/html": "<table><tr><th>title</th></tr><tr><td>A Midsummers Night Dream</td></tr><tr><td>Romeo and Juliet</td></tr><tr><td>The Golden Compass</td></tr><tr><td>The Subtle Knife</td></tr><tr><td>The Amber Spyglass</td></tr><tr><td>The Alchemist</td></tr><tr><td>And Then There Were None</td></tr><tr><td>The Joy Luck Club</td></tr><tr><td>The Moon Lady</td></tr><tr><td>Sense and Sensibility</td></tr><tr><td>Northanger Abbey</td></tr><tr><td>Pride and Prejudice</td></tr><tr><td>Mansfield Park</td></tr><tr><td>Emma</td></tr><tr><td>Persuasion</td></tr><tr><td>Lady Susan</td></tr><tr><td>Wuthering Heights</td></tr><tr><td>The Handmaids Tale</td></tr><tr><td>The Testaments</td></tr><tr><td>The Parable of the Sower</td></tr><tr><td>Little Women</td></tr><tr><td>Still Life</td></tr><tr><td>A Fatal Grace</td></tr><tr><td>The Cruelest Month</td></tr><tr><td>The Murder Stone</td></tr><tr><td>The Brutal Telling</td></tr><tr><td>Bury Your Dead</td></tr><tr><td>A Trick of the Light</td></tr><tr><td>Midnights Children</td></tr><tr><td>Dont Let the Pigeon Drive the Bus!</td></tr><tr><td>Beezus and Ramona</td></tr><tr><td>Organic Chemistry</td></tr><tr><td>I Know Why the Caged Bird Sings</td></tr><tr><td>Beloved</td></tr><tr><td>Brassbones and Rainbows</td></tr></table>"
                    },
                    "metadata": {}
                }
            ],
            "execution_count": 3
        },
        {
            "cell_type": "markdown",
            "source": [
                "We will repeat a similar process for the **author, patron,** and **genre** tables. \n",
                "                \n",
                "### **Author Table**\n",
                "\n",
                "To create the **author** table, you will use the following code:\n",
                "\n",
                "```\n",
                "CREATE TABLE [DB].[schema].author (\n",
                "    author_id INT IDENTITY(1,1), PRIMARY KEY\n",
                "    first_name VARCHAR(255),\n",
                "    last_name VARCHAR(255),\n",
                "    birth_year INT,\n",
                "    death_year INT\n",
                ");\n",
                "```"
            ],
            "metadata": {
                "azdata_cell_guid": "3966aa6a-a60e-4009-8bc6-464e3d45b6ce"
            }
        },
        {
            "cell_type": "code",
            "source": [
                "-- create the author table here:\r\n",
                "CREATE TABLE May2024JunkDB.shanthi.author (\r\n",
                "    author_id INT IDENTITY(1,1) PRIMARY KEY,\r\n",
                "    first_name VARCHAR(255),\r\n",
                "    last_name VARCHAR(255),\r\n",
                "    birth_year INT,\r\n",
                "    death_year INT\r\n",
                ");"
            ],
            "metadata": {
                "vscode": {
                    "languageId": "sql"
                },
                "azdata_cell_guid": "d06befc3-06a5-47eb-aa30-7763959fc2ef",
                "language": "sql"
            },
            "outputs": [
                {
                    "output_type": "display_data",
                    "data": {
                        "text/html": "Commands completed successfully."
                    },
                    "metadata": {}
                },
                {
                    "output_type": "display_data",
                    "data": {
                        "text/html": "Total execution time: 00:00:00.036"
                    },
                    "metadata": {}
                }
            ],
            "execution_count": 5
        },
        {
            "cell_type": "markdown",
            "source": [
                "Populate the **author** table with the `author_data.ipynb` notebook."
            ],
            "metadata": {
                "azdata_cell_guid": "c37e0c82-e4b6-4668-93b5-c0be24221dcd"
            }
        },
        {
            "cell_type": "code",
            "source": [
                "-- paste the author data values in this code block.\r\n",
                "INSERT INTO May2024JunkDB.shanthi.author(first_name, last_name, birth_year, death_year)\r\n",
                "VALUES ('Phillip', 'Pullman', 1946, null);\r\n",
                "\r\n",
                "INSERT INTO May2024JunkDB.shanthi.author(first_name, last_name, birth_year, death_year)\r\n",
                "VALUES ('William', 'Shakespeare', 1564, 1616);\r\n",
                "\r\n",
                "INSERT INTO May2024JunkDB.shanthi.author(first_name, last_name, birth_year, death_year)\r\n",
                "VALUES ('Paulo', 'Coelho', 1947, null);\r\n",
                "\r\n",
                "INSERT INTO May2024JunkDB.shanthi.author(first_name, last_name, birth_year, death_year)\r\n",
                "VALUES ('Agatha', 'Christie', 1890-09-15, 1976-01-12);\r\n",
                "\r\n",
                "INSERT INTO May2024JunkDB.shanthi.author(first_name, last_name, birth_year, death_year)\r\n",
                "VALUES ('Amy', 'Tan', 1952-02-19, null);\r\n",
                "\r\n",
                "INSERT INTO May2024JunkDB.shanthi.author(first_name, last_name, birth_year, death_year)\r\n",
                "VALUES ('Jane', 'Austin', 1775-12-16, 1817-07-18);\r\n",
                "\r\n",
                "INSERT INTO May2024JunkDB.shanthi.author(first_name, last_name, birth_year, death_year)\r\n",
                "VALUES ('Emily', 'Bronte', 1818-07-30, 1848-12-19);\r\n",
                "\r\n",
                "INSERT INTO May2024JunkDB.shanthi.author(first_name, last_name, birth_year, death_year)\r\n",
                "VALUES ('Margaret', 'Atwood', 1939-11-18, null);\r\n",
                "\r\n",
                "INSERT INTO May2024JunkDB.shanthi.author(first_name, last_name, birth_year, death_year)\r\n",
                "VALUES ('Octavia', 'Butler', 1947-06-22, 2006-02-24);\r\n",
                "\r\n",
                "INSERT INTO May2024JunkDB.shanthi.author(first_name, last_name, birth_year, death_year)\r\n",
                "VALUES ('Louisa May', 'Alcott', 1832-11-29, 1888-03-06);\r\n",
                "\r\n",
                "INSERT INTO May2024JunkDB.shanthi.author(first_name, last_name, birth_year, death_year)\r\n",
                "VALUES ('Louise', 'Penny', 1958-07-01, null);\r\n",
                "\r\n",
                "INSERT INTO May2024JunkDB.shanthi.author(first_name, last_name, birth_year, death_year)\r\n",
                "VALUES ('Salman', 'Rushdie', 1947-08-19, null);\r\n",
                "\r\n",
                "INSERT INTO May2024JunkDB.shanthi.author(first_name, last_name, birth_year, death_year)\r\n",
                "VALUES ('Mo', 'Willems', 1968-02-11, null);\r\n",
                "\r\n",
                "INSERT INTO May2024JunkDB.shanthi.author(first_name, last_name, birth_year, death_year)\r\n",
                "VALUES ('Beverly', 'Cleary', 1916-04-12, null);\r\n",
                "\r\n",
                "INSERT INTO May2024JunkDB.shanthi.author(first_name, last_name, birth_year, death_year)\r\n",
                "VALUES ('Peter', 'Vollhardt', 1946-03-07, null);\r\n",
                "\r\n",
                "INSERT INTO May2024JunkDB.shanthi.author(first_name, last_name, birth_year, death_year)\r\n",
                "VALUES ('Maya', 'Angelou', 1928-04-04, 2014-05-28);\r\n",
                "\r\n",
                "INSERT INTO May2024JunkDB.shanthi.author(first_name, last_name, birth_year, death_year)\r\n",
                "VALUES ('Toni', 'Morrison', 1931-02-18, 2019-08-05);\r\n",
                "\r\n",
                "INSERT INTO May2024JunkDB.shanthi.author(first_name, last_name, birth_year, death_year)\r\n",
                "VALUES ('Shirley', 'LeFlore', 1940-03-06, 2019-05-12)"
            ],
            "metadata": {
                "vscode": {
                    "languageId": "sql"
                },
                "azdata_cell_guid": "0cdf4fd0-3d6f-481b-a961-85dfc481e278",
                "language": "sql"
            },
            "outputs": [
                {
                    "output_type": "display_data",
                    "data": {
                        "text/html": "(1 row affected)"
                    },
                    "metadata": {}
                },
                {
                    "output_type": "display_data",
                    "data": {
                        "text/html": "(1 row affected)"
                    },
                    "metadata": {}
                },
                {
                    "output_type": "display_data",
                    "data": {
                        "text/html": "(1 row affected)"
                    },
                    "metadata": {}
                },
                {
                    "output_type": "display_data",
                    "data": {
                        "text/html": "(1 row affected)"
                    },
                    "metadata": {}
                },
                {
                    "output_type": "display_data",
                    "data": {
                        "text/html": "(1 row affected)"
                    },
                    "metadata": {}
                },
                {
                    "output_type": "display_data",
                    "data": {
                        "text/html": "(1 row affected)"
                    },
                    "metadata": {}
                },
                {
                    "output_type": "display_data",
                    "data": {
                        "text/html": "(1 row affected)"
                    },
                    "metadata": {}
                },
                {
                    "output_type": "display_data",
                    "data": {
                        "text/html": "(1 row affected)"
                    },
                    "metadata": {}
                },
                {
                    "output_type": "display_data",
                    "data": {
                        "text/html": "(1 row affected)"
                    },
                    "metadata": {}
                },
                {
                    "output_type": "display_data",
                    "data": {
                        "text/html": "(1 row affected)"
                    },
                    "metadata": {}
                },
                {
                    "output_type": "display_data",
                    "data": {
                        "text/html": "(1 row affected)"
                    },
                    "metadata": {}
                },
                {
                    "output_type": "display_data",
                    "data": {
                        "text/html": "(1 row affected)"
                    },
                    "metadata": {}
                },
                {
                    "output_type": "display_data",
                    "data": {
                        "text/html": "(1 row affected)"
                    },
                    "metadata": {}
                },
                {
                    "output_type": "display_data",
                    "data": {
                        "text/html": "(1 row affected)"
                    },
                    "metadata": {}
                },
                {
                    "output_type": "display_data",
                    "data": {
                        "text/html": "(1 row affected)"
                    },
                    "metadata": {}
                },
                {
                    "output_type": "display_data",
                    "data": {
                        "text/html": "(1 row affected)"
                    },
                    "metadata": {}
                },
                {
                    "output_type": "display_data",
                    "data": {
                        "text/html": "(1 row affected)"
                    },
                    "metadata": {}
                },
                {
                    "output_type": "display_data",
                    "data": {
                        "text/html": "(1 row affected)"
                    },
                    "metadata": {}
                },
                {
                    "output_type": "display_data",
                    "data": {
                        "text/html": "Total execution time: 00:00:00.062"
                    },
                    "metadata": {}
                }
            ],
            "execution_count": 6
        },
        {
            "cell_type": "markdown",
            "source": [
                "### **Patron Table**\n",
                "\n",
                "To create the **patron**, you will use the following code:\n",
                "\n",
                "```\n",
                "CREATE TABLE [DB].[schema].patron (\n",
                "    patron_id INT IDENTITY (1,1) PRIMARY KEY,\n",
                "    first_name VARCHAR(255),\n",
                "    last_name VARCHAR(255),\n",
                "    loan_id INT\n",
                ");\n",
                "```"
            ],
            "metadata": {
                "azdata_cell_guid": "fe0c33f1-4213-4032-bba7-a8e418cc6f18"
            }
        },
        {
            "cell_type": "code",
            "source": [
                "-- create the patron table here:\r\n",
                "CREATE TABLE May2024JunkDB.shanthi.patron (\r\n",
                "    patron_id INT IDENTITY (1,1) PRIMARY KEY,\r\n",
                "    first_name VARCHAR(255),\r\n",
                "    last_name VARCHAR(255),\r\n",
                "    loan_id INT\r\n",
                ");"
            ],
            "metadata": {
                "vscode": {
                    "languageId": "sql"
                },
                "azdata_cell_guid": "24593b36-1b3d-49a2-9783-e75142c8ebb8",
                "language": "sql"
            },
            "outputs": [
                {
                    "output_type": "display_data",
                    "data": {
                        "text/html": "Commands completed successfully."
                    },
                    "metadata": {}
                },
                {
                    "output_type": "display_data",
                    "data": {
                        "text/html": "Total execution time: 00:00:00.029"
                    },
                    "metadata": {}
                }
            ],
            "execution_count": 7
        },
        {
            "cell_type": "markdown",
            "source": [
                "Populate the **patron** table with the `patron_data.ipynb` notebook."
            ],
            "metadata": {
                "azdata_cell_guid": "ce0e6a17-70e6-426c-b559-b0cc0af5c5af"
            }
        },
        {
            "cell_type": "code",
            "source": [
                "-- insert patron data into the table here.\r\n",
                "INSERT INTO May2024JunkDB.shanthi.patron(first_name, last_name, loan_id)\r\n",
                "VALUES ('Jennifer', 'Slayny', NULL);\r\n",
                "\r\n",
                "INSERT INTO May2024JunkDB.shanthi.patron(first_name, last_name, loan_id)\r\n",
                "VALUES ('Susan', 'Traviss', NULL);\r\n",
                "\r\n",
                "INSERT INTO May2024JunkDB.shanthi.patron(first_name, last_name, loan_id)\r\n",
                "VALUES ('Vincent', 'Ritelli', NULL);\r\n",
                "\r\n",
                "INSERT INTO May2024JunkDB.shanthi.patron(first_name, last_name, loan_id)\r\n",
                "VALUES ('Tasia', 'Laybourne', NULL);\r\n",
                "\r\n",
                "INSERT INTO May2024JunkDB.shanthi.patron(first_name, last_name, loan_id)\r\n",
                "VALUES ('Wren', 'Gergler', NULL);\r\n",
                "\r\n",
                "INSERT INTO May2024JunkDB.shanthi.patron(first_name, last_name, loan_id)\r\n",
                "VALUES ('Tory', 'Lees', NULL);\r\n",
                "\r\n",
                "INSERT INTO May2024JunkDB.shanthi.patron(first_name, last_name, loan_id)\r\n",
                "VALUES ('Estelle', 'Di Lorio', NULL);\r\n",
                "\r\n",
                "INSERT INTO May2024JunkDB.shanthi.patron(first_name, last_name, loan_id)\r\n",
                "VALUES ('Dorian', 'Betje', NULL);\r\n",
                "\r\n",
                "INSERT INTO May2024JunkDB.shanthi.patron(first_name, last_name, loan_id)\r\n",
                "VALUES ('Frank', 'Jelk', NULL);\r\n",
                "\r\n",
                "INSERT INTO May2024JunkDB.shanthi.patron(first_name, last_name, loan_id)\r\n",
                "VALUES ('Chris', 'Endon', NULL);\r\n",
                "\r\n",
                "INSERT INTO May2024JunkDB.shanthi.patron(first_name, last_name, loan_id)\r\n",
                "VALUES ('Gillie', 'Fritz', NULL);\r\n",
                "\r\n",
                "INSERT INTO May2024JunkDB.shanthi.patron(first_name, last_name, loan_id)\r\n",
                "VALUES ('Leisha', 'Defty', NULL);\r\n",
                "\r\n",
                "INSERT INTO May2024JunkDB.shanthi.patron(first_name, last_name, loan_id)\r\n",
                "VALUES ('Erika', 'Bompass', NULL);\r\n",
                "\r\n",
                "INSERT INTO May2024JunkDB.shanthi.patron(first_name, last_name, loan_id)\r\n",
                "VALUES ('Gabe', 'Moxstead', NULL);\r\n",
                "\r\n",
                "INSERT INTO May2024JunkDB.shanthi.patron(first_name, last_name, loan_id)\r\n",
                "VALUES ('Blake', 'Teresse', NULL);\r\n",
                "\r\n",
                "INSERT INTO May2024JunkDB.shanthi.patron(first_name, last_name, loan_id)\r\n",
                "VALUES ('Joshua', 'Timmouth', NULL);\r\n",
                "\r\n",
                "INSERT INTO May2024JunkDB.shanthi.patron(first_name, last_name, loan_id)\r\n",
                "VALUES ('Tasha', 'Timmouth', NULL);\r\n",
                "\r\n",
                "INSERT INTO May2024JunkDB.shanthi.patron(first_name, last_name, loan_id)\r\n",
                "VALUES ('Neil', 'Davie', NULL);\r\n",
                "\r\n",
                "INSERT INTO May2024JunkDB.shanthi.patron(first_name, last_name, loan_id)\r\n",
                "VALUES ('Emmeline', 'Pitherick', NULL);\r\n",
                "\r\n",
                "INSERT INTO May2024JunkDB.shanthi.patron(first_name, last_name, loan_id)\r\n",
                "VALUES ('Josiah', 'Staner', NULL);\r\n",
                "\r\n",
                "INSERT INTO May2024JunkDB.shanthi.patron(first_name, last_name, loan_id)\r\n",
                "VALUES ('James', 'Greetham', NULL);\r\n",
                "\r\n",
                "INSERT INTO May2024JunkDB.shanthi.patron(first_name, last_name, loan_id)\r\n",
                "VALUES ('Isaac', 'Barstowk', NULL);\r\n",
                "\r\n",
                "INSERT INTO May2024JunkDB.shanthi.patron(first_name, last_name, loan_id)\r\n",
                "VALUES ('Dean', 'Nelane', NULL);\r\n",
                "\r\n",
                "INSERT INTO May2024JunkDB.shanthi.patron(first_name, last_name, loan_id)\r\n",
                "VALUES ('Carolina', 'Cranmere', NULL);\r\n",
                "\r\n",
                "INSERT INTO May2024JunkDB.shanthi.patron(first_name, last_name, loan_id)\r\n",
                "VALUES ('Champ', 'Lardiner', NULL);\r\n",
                "\r\n",
                "INSERT INTO May2024JunkDB.shanthi.patron(first_name, last_name, loan_id)\r\n",
                "VALUES ('Abbie', 'Quaif', NULL);\r\n",
                "\r\n",
                "INSERT INTO May2024JunkDB.shanthi.patron(first_name, last_name, loan_id)\r\n",
                "VALUES ('Camile', 'Milbourne', NULL);\r\n",
                "\r\n",
                "INSERT INTO May2024JunkDB.shanthi.patron(first_name, last_name, loan_id)\r\n",
                "VALUES ('Quentin', 'Crose', NULL);\r\n",
                "\r\n",
                "INSERT INTO May2024JunkDB.shanthi.patron(first_name, last_name, loan_id)\r\n",
                "VALUES ('Silvano', 'Horlick', NULL);\r\n",
                "\r\n",
                "INSERT INTO May2024JunkDB.shanthi.patron(first_name, last_name, loan_id)\r\n",
                "VALUES ('Phyllis', 'Cicchillo', NULL);\r\n",
                "\r\n",
                "INSERT INTO May2024JunkDB.shanthi.patron(first_name, last_name, loan_id)\r\n",
                "VALUES ('Jerrie', 'Brownhall', NULL);\r\n",
                "\r\n",
                "INSERT INTO May2024JunkDB.shanthi.patron(first_name, last_name, loan_id)\r\n",
                "VALUES ('Ludovika', 'Leist', NULL);\r\n",
                "\r\n",
                "INSERT INTO May2024JunkDB.shanthi.patron(first_name, last_name, loan_id)\r\n",
                "VALUES ('Tara', 'Knatt', NULL);\r\n",
                "\r\n",
                "INSERT INTO May2024JunkDB.shanthi.patron(first_name, last_name, loan_id)\r\n",
                "VALUES ('Kelsie', 'Parkson', NULL);\r\n",
                "\r\n",
                "INSERT INTO May2024JunkDB.shanthi.patron(first_name, last_name, loan_id)\r\n",
                "VALUES ('Jodi', 'Leopard', NULL);\r\n",
                "\r\n",
                "INSERT INTO May2024JunkDB.shanthi.patron(first_name, last_name, loan_id)\r\n",
                "VALUES ('Rosanna', 'Cultcheth', NULL);\r\n",
                "\r\n",
                "INSERT INTO May2024JunkDB.shanthi.patron(first_name, last_name, loan_id)\r\n",
                "VALUES ('Remy', 'Fairpool', NULL);\r\n",
                "\r\n",
                "INSERT INTO May2024JunkDB.shanthi.patron(first_name, last_name, loan_id)\r\n",
                "VALUES ('Megan', 'Blyth', NULL);\r\n",
                "\r\n",
                "INSERT INTO May2024JunkDB.shanthi.patron(first_name, last_name, loan_id)\r\n",
                "VALUES ('Rikki', 'McLernon', NULL);\r\n",
                "\r\n",
                "INSERT INTO May2024JunkDB.shanthi.patron(first_name, last_name, loan_id)\r\n",
                "VALUES ('Clare', 'Haacker', NULL);\r\n",
                "\r\n",
                "INSERT INTO May2024JunkDB.shanthi.patron(first_name, last_name, loan_id)\r\n",
                "VALUES ('Vincent', 'Chettle', NULL);\r\n",
                "\r\n",
                "INSERT INTO May2024JunkDB.shanthi.patron(first_name, last_name, loan_id)\r\n",
                "VALUES ('Sybil', 'Costanza', NULL);\r\n",
                "\r\n",
                "INSERT INTO May2024JunkDB.shanthi.patron(first_name, last_name, loan_id)\r\n",
                "VALUES ('Jonas', 'Sinclare', NULL);\r\n",
                "\r\n",
                "INSERT INTO May2024JunkDB.shanthi.patron(first_name, last_name, loan_id)\r\n",
                "VALUES ('Claire', 'Bendel', NULL);\r\n",
                "\r\n",
                "INSERT INTO May2024JunkDB.shanthi.patron(first_name, last_name, loan_id)\r\n",
                "VALUES ('Kathleen', 'Welband', NULL);\r\n",
                "\r\n",
                "INSERT INTO May2024JunkDB.shanthi.patron(first_name, last_name, loan_id)\r\n",
                "VALUES ('Kylie', 'Crannage', NULL);\r\n",
                "\r\n",
                "INSERT INTO May2024JunkDB.shanthi.patron(first_name, last_name, loan_id)\r\n",
                "VALUES ('Evelyn', 'Tarajo', NULL);\r\n",
                "\r\n",
                "INSERT INTO May2024JunkDB.shanthi.patron(first_name, last_name, loan_id)\r\n",
                "VALUES ('Oliver', 'Caulson', NULL);"
            ],
            "metadata": {
                "vscode": {
                    "languageId": "sql"
                },
                "azdata_cell_guid": "cdbe1ba6-2444-42b2-8b18-bff18e1851c3",
                "language": "sql"
            },
            "outputs": [
                {
                    "output_type": "display_data",
                    "data": {
                        "text/html": "(1 row affected)"
                    },
                    "metadata": {}
                },
                {
                    "output_type": "display_data",
                    "data": {
                        "text/html": "(1 row affected)"
                    },
                    "metadata": {}
                },
                {
                    "output_type": "display_data",
                    "data": {
                        "text/html": "(1 row affected)"
                    },
                    "metadata": {}
                },
                {
                    "output_type": "display_data",
                    "data": {
                        "text/html": "(1 row affected)"
                    },
                    "metadata": {}
                },
                {
                    "output_type": "display_data",
                    "data": {
                        "text/html": "(1 row affected)"
                    },
                    "metadata": {}
                },
                {
                    "output_type": "display_data",
                    "data": {
                        "text/html": "(1 row affected)"
                    },
                    "metadata": {}
                },
                {
                    "output_type": "display_data",
                    "data": {
                        "text/html": "(1 row affected)"
                    },
                    "metadata": {}
                },
                {
                    "output_type": "display_data",
                    "data": {
                        "text/html": "(1 row affected)"
                    },
                    "metadata": {}
                },
                {
                    "output_type": "display_data",
                    "data": {
                        "text/html": "(1 row affected)"
                    },
                    "metadata": {}
                },
                {
                    "output_type": "display_data",
                    "data": {
                        "text/html": "(1 row affected)"
                    },
                    "metadata": {}
                },
                {
                    "output_type": "display_data",
                    "data": {
                        "text/html": "(1 row affected)"
                    },
                    "metadata": {}
                },
                {
                    "output_type": "display_data",
                    "data": {
                        "text/html": "(1 row affected)"
                    },
                    "metadata": {}
                },
                {
                    "output_type": "display_data",
                    "data": {
                        "text/html": "(1 row affected)"
                    },
                    "metadata": {}
                },
                {
                    "output_type": "display_data",
                    "data": {
                        "text/html": "(1 row affected)"
                    },
                    "metadata": {}
                },
                {
                    "output_type": "display_data",
                    "data": {
                        "text/html": "(1 row affected)"
                    },
                    "metadata": {}
                },
                {
                    "output_type": "display_data",
                    "data": {
                        "text/html": "(1 row affected)"
                    },
                    "metadata": {}
                },
                {
                    "output_type": "display_data",
                    "data": {
                        "text/html": "(1 row affected)"
                    },
                    "metadata": {}
                },
                {
                    "output_type": "display_data",
                    "data": {
                        "text/html": "(1 row affected)"
                    },
                    "metadata": {}
                },
                {
                    "output_type": "display_data",
                    "data": {
                        "text/html": "(1 row affected)"
                    },
                    "metadata": {}
                },
                {
                    "output_type": "display_data",
                    "data": {
                        "text/html": "(1 row affected)"
                    },
                    "metadata": {}
                },
                {
                    "output_type": "display_data",
                    "data": {
                        "text/html": "(1 row affected)"
                    },
                    "metadata": {}
                },
                {
                    "output_type": "display_data",
                    "data": {
                        "text/html": "(1 row affected)"
                    },
                    "metadata": {}
                },
                {
                    "output_type": "display_data",
                    "data": {
                        "text/html": "(1 row affected)"
                    },
                    "metadata": {}
                },
                {
                    "output_type": "display_data",
                    "data": {
                        "text/html": "(1 row affected)"
                    },
                    "metadata": {}
                },
                {
                    "output_type": "display_data",
                    "data": {
                        "text/html": "(1 row affected)"
                    },
                    "metadata": {}
                },
                {
                    "output_type": "display_data",
                    "data": {
                        "text/html": "(1 row affected)"
                    },
                    "metadata": {}
                },
                {
                    "output_type": "display_data",
                    "data": {
                        "text/html": "(1 row affected)"
                    },
                    "metadata": {}
                },
                {
                    "output_type": "display_data",
                    "data": {
                        "text/html": "(1 row affected)"
                    },
                    "metadata": {}
                },
                {
                    "output_type": "display_data",
                    "data": {
                        "text/html": "(1 row affected)"
                    },
                    "metadata": {}
                },
                {
                    "output_type": "display_data",
                    "data": {
                        "text/html": "(1 row affected)"
                    },
                    "metadata": {}
                },
                {
                    "output_type": "display_data",
                    "data": {
                        "text/html": "(1 row affected)"
                    },
                    "metadata": {}
                },
                {
                    "output_type": "display_data",
                    "data": {
                        "text/html": "(1 row affected)"
                    },
                    "metadata": {}
                },
                {
                    "output_type": "display_data",
                    "data": {
                        "text/html": "(1 row affected)"
                    },
                    "metadata": {}
                },
                {
                    "output_type": "display_data",
                    "data": {
                        "text/html": "(1 row affected)"
                    },
                    "metadata": {}
                },
                {
                    "output_type": "display_data",
                    "data": {
                        "text/html": "(1 row affected)"
                    },
                    "metadata": {}
                },
                {
                    "output_type": "display_data",
                    "data": {
                        "text/html": "(1 row affected)"
                    },
                    "metadata": {}
                },
                {
                    "output_type": "display_data",
                    "data": {
                        "text/html": "(1 row affected)"
                    },
                    "metadata": {}
                },
                {
                    "output_type": "display_data",
                    "data": {
                        "text/html": "(1 row affected)"
                    },
                    "metadata": {}
                },
                {
                    "output_type": "display_data",
                    "data": {
                        "text/html": "(1 row affected)"
                    },
                    "metadata": {}
                },
                {
                    "output_type": "display_data",
                    "data": {
                        "text/html": "(1 row affected)"
                    },
                    "metadata": {}
                },
                {
                    "output_type": "display_data",
                    "data": {
                        "text/html": "(1 row affected)"
                    },
                    "metadata": {}
                },
                {
                    "output_type": "display_data",
                    "data": {
                        "text/html": "(1 row affected)"
                    },
                    "metadata": {}
                },
                {
                    "output_type": "display_data",
                    "data": {
                        "text/html": "(1 row affected)"
                    },
                    "metadata": {}
                },
                {
                    "output_type": "display_data",
                    "data": {
                        "text/html": "(1 row affected)"
                    },
                    "metadata": {}
                },
                {
                    "output_type": "display_data",
                    "data": {
                        "text/html": "(1 row affected)"
                    },
                    "metadata": {}
                },
                {
                    "output_type": "display_data",
                    "data": {
                        "text/html": "(1 row affected)"
                    },
                    "metadata": {}
                },
                {
                    "output_type": "display_data",
                    "data": {
                        "text/html": "(1 row affected)"
                    },
                    "metadata": {}
                },
                {
                    "output_type": "display_data",
                    "data": {
                        "text/html": "(1 row affected)"
                    },
                    "metadata": {}
                },
                {
                    "output_type": "display_data",
                    "data": {
                        "text/html": "Total execution time: 00:00:00.089"
                    },
                    "metadata": {}
                }
            ],
            "execution_count": 8
        },
        {
            "cell_type": "markdown",
            "source": [
                "### **Genre Table**\n",
                "\n",
                "To create the **genre** table, use the following code:\n",
                "\n",
                "```\n",
                "CREATE TABLE [DB].[schema].genre (\n",
                "    genre_id INT PRIMARY KEY,\n",
                "    genres VARCHAR(100)\n",
                ");\n",
                "```"
            ],
            "metadata": {
                "azdata_cell_guid": "65ebf299-759b-410e-92c6-12066db0a832"
            }
        },
        {
            "cell_type": "code",
            "source": [
                "-- create genre table here.\r\n",
                "CREATE TABLE May2024JunkDB.shanthi.genre (\r\n",
                "    genre_id INT PRIMARY KEY,\r\n",
                "    genres VARCHAR(100)\r\n",
                ");"
            ],
            "metadata": {
                "vscode": {
                    "languageId": "sql"
                },
                "azdata_cell_guid": "27975fdc-d5cd-4bb4-b4fb-321b6b0500b5",
                "language": "sql"
            },
            "outputs": [
                {
                    "output_type": "display_data",
                    "data": {
                        "text/html": "Commands completed successfully."
                    },
                    "metadata": {}
                },
                {
                    "output_type": "display_data",
                    "data": {
                        "text/html": "Total execution time: 00:00:00.030"
                    },
                    "metadata": {}
                }
            ],
            "execution_count": 10
        },
        {
            "cell_type": "markdown",
            "source": [
                "Populate the **genre** table with the `genre_data.ipynb` notebook."
            ],
            "metadata": {
                "azdata_cell_guid": "b00d1ad3-b281-4e80-90ac-5d42b56f2988"
            }
        },
        {
            "cell_type": "code",
            "source": [
                "-- insert the genre data into the table here.\r\n",
                "-- populating genre table\r\n",
                "INSERT INTO May2024JunkDB.shanthi.genre(genre_id, genres)\r\n",
                "VALUES (1, 'Fantasy');\r\n",
                "\r\n",
                "INSERT INTO May2024JunkDB.shanthi.genre(genre_id, genres)\r\n",
                "VALUES (2, 'Adventure');\r\n",
                "\r\n",
                "INSERT INTO May2024JunkDB.shanthi.genre(genre_id, genres)\r\n",
                "VALUES (3, 'Romance');\r\n",
                "\r\n",
                "INSERT INTO May2024JunkDB.shanthi.genre(genre_id, genres)\r\n",
                "VALUES (4, 'Contemporary');\r\n",
                "\r\n",
                "INSERT INTO May2024JunkDB.shanthi.genre(genre_id, genres)\r\n",
                "VALUES (5, 'Dystopian');\r\n",
                "\r\n",
                "INSERT INTO May2024JunkDB.shanthi.genre(genre_id, genres)\r\n",
                "VALUES (6, 'Mystery');\r\n",
                "\r\n",
                "INSERT INTO May2024JunkDB.shanthi.genre(genre_id, genres)\r\n",
                "VALUES (7, 'Horror');\r\n",
                "\r\n",
                "INSERT INTO May2024JunkDB.shanthi.genre(genre_id, genres)\r\n",
                "VALUES (8, 'Thriller');\r\n",
                "\r\n",
                "INSERT INTO May2024JunkDB.shanthi.genre(genre_id, genres)\r\n",
                "VALUES (9, 'Paranormal');\r\n",
                "\r\n",
                "INSERT INTO May2024JunkDB.shanthi.genre(genre_id, genres)\r\n",
                "VALUES (10, 'Historical Fiction');\r\n",
                "\r\n",
                "INSERT INTO May2024JunkDB.shanthi.genre(genre_id, genres)\r\n",
                "VALUES (11, 'Science Fiction');\r\n",
                "\r\n",
                "INSERT INTO May2024JunkDB.shanthi.genre(genre_id, genres)\r\n",
                "VALUES (12, 'Memoir');\r\n",
                "\r\n",
                "INSERT INTO May2024JunkDB.shanthi.genre(genre_id, genres)\r\n",
                "VALUES (13, 'Cooking');\r\n",
                "\r\n",
                "INSERT INTO May2024JunkDB.shanthi.genre(genre_id, genres)\r\n",
                "VALUES (14, 'Art');\r\n",
                "\r\n",
                "INSERT INTO May2024JunkDB.shanthi.genre(genre_id, genres)\r\n",
                "VALUES (15, 'Self-Help');\r\n",
                "\r\n",
                "INSERT INTO May2024JunkDB.shanthi.genre(genre_id, genres)\r\n",
                "VALUES (16, 'Development');\r\n",
                "\r\n",
                "INSERT INTO May2024JunkDB.shanthi.genre(genre_id, genres)\r\n",
                "VALUES (17, 'Motivational');\r\n",
                "\r\n",
                "INSERT INTO May2024JunkDB.shanthi.genre(genre_id, genres)\r\n",
                "VALUES (18, 'Health');\r\n",
                "\r\n",
                "INSERT INTO May2024JunkDB.shanthi.genre(genre_id, genres)\r\n",
                "VALUES (19, 'History');\r\n",
                "\r\n",
                "INSERT INTO May2024JunkDB.shanthi.genre(genre_id, genres)\r\n",
                "VALUES (20, 'Travel');\r\n",
                "\r\n",
                "INSERT INTO May2024JunkDB.shanthi.genre(genre_id, genres)\r\n",
                "VALUES (21, 'Guide');\r\n",
                "\r\n",
                "INSERT INTO May2024JunkDB.shanthi.genre(genre_id, genres)\r\n",
                "VALUES (22, 'Families and Relationships');\r\n",
                "\r\n",
                "INSERT INTO May2024JunkDB.shanthi.genre(genre_id, genres)\r\n",
                "VALUES (23, 'Humor');\r\n",
                "\r\n",
                "INSERT INTO May2024JunkDB.shanthi.genre(genre_id, genres)\r\n",
                "VALUES (24, 'Childrens');\r\n",
                "\r\n",
                "INSERT INTO May2024JunkDB.shanthi.genre(genre_id, genres)\r\n",
                "VALUES (25, 'Reference');\r\n",
                "\r\n",
                "INSERT INTO May2024JunkDB.shanthi.genre(genre_id, genres)\r\n",
                "VALUES (26, 'Poetry');"
            ],
            "metadata": {
                "vscode": {
                    "languageId": "sql"
                },
                "azdata_cell_guid": "80349ff5-eba1-4989-8a0f-8a303914a4f1",
                "language": "sql"
            },
            "outputs": [
                {
                    "output_type": "display_data",
                    "data": {
                        "text/html": "(1 row affected)"
                    },
                    "metadata": {}
                },
                {
                    "output_type": "display_data",
                    "data": {
                        "text/html": "(1 row affected)"
                    },
                    "metadata": {}
                },
                {
                    "output_type": "display_data",
                    "data": {
                        "text/html": "(1 row affected)"
                    },
                    "metadata": {}
                },
                {
                    "output_type": "display_data",
                    "data": {
                        "text/html": "(1 row affected)"
                    },
                    "metadata": {}
                },
                {
                    "output_type": "display_data",
                    "data": {
                        "text/html": "(1 row affected)"
                    },
                    "metadata": {}
                },
                {
                    "output_type": "display_data",
                    "data": {
                        "text/html": "(1 row affected)"
                    },
                    "metadata": {}
                },
                {
                    "output_type": "display_data",
                    "data": {
                        "text/html": "(1 row affected)"
                    },
                    "metadata": {}
                },
                {
                    "output_type": "display_data",
                    "data": {
                        "text/html": "(1 row affected)"
                    },
                    "metadata": {}
                },
                {
                    "output_type": "display_data",
                    "data": {
                        "text/html": "(1 row affected)"
                    },
                    "metadata": {}
                },
                {
                    "output_type": "display_data",
                    "data": {
                        "text/html": "(1 row affected)"
                    },
                    "metadata": {}
                },
                {
                    "output_type": "display_data",
                    "data": {
                        "text/html": "(1 row affected)"
                    },
                    "metadata": {}
                },
                {
                    "output_type": "display_data",
                    "data": {
                        "text/html": "(1 row affected)"
                    },
                    "metadata": {}
                },
                {
                    "output_type": "display_data",
                    "data": {
                        "text/html": "(1 row affected)"
                    },
                    "metadata": {}
                },
                {
                    "output_type": "display_data",
                    "data": {
                        "text/html": "(1 row affected)"
                    },
                    "metadata": {}
                },
                {
                    "output_type": "display_data",
                    "data": {
                        "text/html": "(1 row affected)"
                    },
                    "metadata": {}
                },
                {
                    "output_type": "display_data",
                    "data": {
                        "text/html": "(1 row affected)"
                    },
                    "metadata": {}
                },
                {
                    "output_type": "display_data",
                    "data": {
                        "text/html": "(1 row affected)"
                    },
                    "metadata": {}
                },
                {
                    "output_type": "display_data",
                    "data": {
                        "text/html": "(1 row affected)"
                    },
                    "metadata": {}
                },
                {
                    "output_type": "display_data",
                    "data": {
                        "text/html": "(1 row affected)"
                    },
                    "metadata": {}
                },
                {
                    "output_type": "display_data",
                    "data": {
                        "text/html": "(1 row affected)"
                    },
                    "metadata": {}
                },
                {
                    "output_type": "display_data",
                    "data": {
                        "text/html": "(1 row affected)"
                    },
                    "metadata": {}
                },
                {
                    "output_type": "display_data",
                    "data": {
                        "text/html": "(1 row affected)"
                    },
                    "metadata": {}
                },
                {
                    "output_type": "display_data",
                    "data": {
                        "text/html": "(1 row affected)"
                    },
                    "metadata": {}
                },
                {
                    "output_type": "display_data",
                    "data": {
                        "text/html": "(1 row affected)"
                    },
                    "metadata": {}
                },
                {
                    "output_type": "display_data",
                    "data": {
                        "text/html": "(1 row affected)"
                    },
                    "metadata": {}
                },
                {
                    "output_type": "display_data",
                    "data": {
                        "text/html": "(1 row affected)"
                    },
                    "metadata": {}
                },
                {
                    "output_type": "display_data",
                    "data": {
                        "text/html": "Total execution time: 00:00:00.053"
                    },
                    "metadata": {}
                }
            ],
            "execution_count": 11
        },
        {
            "cell_type": "markdown",
            "source": [
                "### **Loan Table**\n",
                "\n",
                "The **loan** table will be created differently and will stay empty.  We will use our other tables to populate the loan table using queries shortly. \n",
                "\n",
                "Use the following code to create the **loan** table:\n",
                "\n",
                "```\n",
                "CREATE TABLE [DB].[schema].loan (\n",
                "    loan_id INT IDENTITY(1,1) PRIMARY KEY,\n",
                "    patron_id INT,\n",
                "    date_out DATE,\n",
                "    date_in DATE,\n",
                "    book_id INT\n",
                "    CONSTRAINT book_id FOREIGN KEY (book_id) REFERENCES [DB].[schema].book (book_id)\n",
                "        ON UPDATE SET NULL\n",
                "        ON DELETE SET NULL\n",
                ");\n",
                "```\n",
                "\n",
                "_Notes about the syntax:_\n",
                "\n",
                "> We are adding a [foreign key](https://www.w3schools.com/sql/sql_foreignkey.asp) to this table to reference a different table's primary key.  In this studio, we are going to link the **loan** table to the **book** table using keys.  The **loan** table will reference and add book id numbers based on the **book** table's `book_id`.  We are also providing [constraints](https://www.w3schools.com/sql/sql_constraints.asp) to be very specific about what type of data is allowed in this column."
            ],
            "metadata": {
                "azdata_cell_guid": "161fd8e1-5469-48a6-8582-f5f9f44b0c5f"
            }
        },
        {
            "cell_type": "code",
            "source": [
                "-- Code the loan table.\n",
                "-- Note that you will need to update the first and seventh lines with your database and schema info.\n",
                "CREATE TABLE May2024JunkDB.shanthi.loan (\n",
                "    loan_id INT IDENTITY(1,1) PRIMARY KEY,\n",
                "    patron_id INT,\n",
                "    date_out DATE,\n",
                "    date_in DATE,\n",
                "    book_id INT\n",
                "    CONSTRAINT book_id FOREIGN KEY (book_id) REFERENCES May2024JunkDB.shanthi.book (book_id)\n",
                "        ON UPDATE SET NULL\n",
                "        ON DELETE SET NULL\n",
                ");"
            ],
            "metadata": {
                "vscode": {
                    "languageId": "sql"
                },
                "azdata_cell_guid": "feb9eb47-f84b-492d-a7d6-5a454ab1cedc",
                "language": "sql"
            },
            "outputs": [
                {
                    "output_type": "display_data",
                    "data": {
                        "text/html": "Commands completed successfully."
                    },
                    "metadata": {}
                },
                {
                    "output_type": "display_data",
                    "data": {
                        "text/html": "Total execution time: 00:00:00.030"
                    },
                    "metadata": {}
                }
            ],
            "execution_count": 12
        },
        {
            "cell_type": "markdown",
            "source": [
                "## **Part B: Warm-Up Queries**\n",
                "\n",
                "Write the following queries to get warmed up and make sure your tables have populated appropriately.\n",
                "\n",
                "1. Return the mystery book titles and their ISBNs.\n",
                "2. Return all of the titles and the author's first and last names for books written by authors who are currently living."
            ],
            "metadata": {
                "azdata_cell_guid": "b1b55c5a-a936-44d8-830a-5cf71f2c1126"
            }
        },
        {
            "cell_type": "code",
            "source": [
                "\r\n",
                "SELECT b.title,b.isbn\r\n",
                "FROM May2024JunkDB.shanthi.book as b\r\n",
                "WHERE b.genre_id IN (select g.genre_id \r\n",
                "              FROM May2024JunkDB.shanthi.genre as g\r\n",
                "              WHERE g.genres = 'mystery' )\r\n",
                "\r\n",
                "SELECT b.title,a.first_name,a.last_name\r\n",
                "FROM May2024JunkDB.shanthi.author as a \r\n",
                "JOIN May2024JunkDB.shanthi.book as b \r\n",
                "ON a.author_id = b.author_id\r\n",
                "WHERE a.death_year IS NULL\r\n",
                "\r\n",
                "\r\n",
                "\r\n",
                "\r\n",
                ""
            ],
            "metadata": {
                "vscode": {
                    "languageId": "sql"
                },
                "azdata_cell_guid": "dafc0a99-7471-4f5d-ba83-68565329e21f",
                "language": "sql"
            },
            "outputs": [
                {
                    "output_type": "display_data",
                    "data": {
                        "text/html": "(8 rows affected)"
                    },
                    "metadata": {}
                },
                {
                    "output_type": "display_data",
                    "data": {
                        "text/html": "(19 rows affected)"
                    },
                    "metadata": {}
                },
                {
                    "output_type": "display_data",
                    "data": {
                        "text/html": "Total execution time: 00:00:00.076"
                    },
                    "metadata": {}
                },
                {
                    "output_type": "execute_result",
                    "execution_count": 29,
                    "data": {
                        "application/vnd.dataresource+json": {
                            "schema": {
                                "fields": [
                                    {
                                        "name": "title"
                                    },
                                    {
                                        "name": "isbn"
                                    }
                                ]
                            },
                            "data": [
                                {
                                    "title": "And Then There Were None",
                                    "isbn": "335973357"
                                },
                                {
                                    "title": "Still Life",
                                    "isbn": "455128657"
                                },
                                {
                                    "title": "A Fatal Grace",
                                    "isbn": "832517012"
                                },
                                {
                                    "title": "The Cruelest Month",
                                    "isbn": "419285319"
                                },
                                {
                                    "title": "The Murder Stone",
                                    "isbn": "656621400"
                                },
                                {
                                    "title": "The Brutal Telling",
                                    "isbn": "144255852"
                                },
                                {
                                    "title": "Bury Your Dead",
                                    "isbn": "208180961"
                                },
                                {
                                    "title": "A Trick of the Light",
                                    "isbn": "93451531"
                                }
                            ]
                        },
                        "text/html": "<table><tr><th>title</th><th>isbn</th></tr><tr><td>And Then There Were None</td><td>335973357</td></tr><tr><td>Still Life</td><td>455128657</td></tr><tr><td>A Fatal Grace</td><td>832517012</td></tr><tr><td>The Cruelest Month</td><td>419285319</td></tr><tr><td>The Murder Stone</td><td>656621400</td></tr><tr><td>The Brutal Telling</td><td>144255852</td></tr><tr><td>Bury Your Dead</td><td>208180961</td></tr><tr><td>A Trick of the Light</td><td>93451531</td></tr></table>"
                    },
                    "metadata": {}
                },
                {
                    "output_type": "execute_result",
                    "execution_count": 29,
                    "data": {
                        "application/vnd.dataresource+json": {
                            "schema": {
                                "fields": [
                                    {
                                        "name": "title"
                                    },
                                    {
                                        "name": "first_name"
                                    },
                                    {
                                        "name": "last_name"
                                    }
                                ]
                            },
                            "data": [
                                {
                                    "title": "The Golden Compass",
                                    "first_name": "Phillip",
                                    "last_name": "Pullman"
                                },
                                {
                                    "title": "The Subtle Knife",
                                    "first_name": "Phillip",
                                    "last_name": "Pullman"
                                },
                                {
                                    "title": "The Amber Spyglass",
                                    "first_name": "Phillip",
                                    "last_name": "Pullman"
                                },
                                {
                                    "title": "The Alchemist",
                                    "first_name": "Paulo",
                                    "last_name": "Coelho"
                                },
                                {
                                    "title": "The Joy Luck Club",
                                    "first_name": "Amy",
                                    "last_name": "Tan"
                                },
                                {
                                    "title": "The Moon Lady",
                                    "first_name": "Amy",
                                    "last_name": "Tan"
                                },
                                {
                                    "title": "The Handmaids Tale",
                                    "first_name": "Margaret",
                                    "last_name": "Atwood"
                                },
                                {
                                    "title": "The Testaments",
                                    "first_name": "Margaret",
                                    "last_name": "Atwood"
                                },
                                {
                                    "title": "Still Life",
                                    "first_name": "Louise",
                                    "last_name": "Penny"
                                },
                                {
                                    "title": "A Fatal Grace",
                                    "first_name": "Louise",
                                    "last_name": "Penny"
                                },
                                {
                                    "title": "The Cruelest Month",
                                    "first_name": "Louise",
                                    "last_name": "Penny"
                                },
                                {
                                    "title": "The Murder Stone",
                                    "first_name": "Louise",
                                    "last_name": "Penny"
                                },
                                {
                                    "title": "The Brutal Telling",
                                    "first_name": "Louise",
                                    "last_name": "Penny"
                                },
                                {
                                    "title": "Bury Your Dead",
                                    "first_name": "Louise",
                                    "last_name": "Penny"
                                },
                                {
                                    "title": "A Trick of the Light",
                                    "first_name": "Louise",
                                    "last_name": "Penny"
                                },
                                {
                                    "title": "Midnights Children",
                                    "first_name": "Salman",
                                    "last_name": "Rushdie"
                                },
                                {
                                    "title": "Dont Let the Pigeon Drive the Bus!",
                                    "first_name": "Mo",
                                    "last_name": "Willems"
                                },
                                {
                                    "title": "Beezus and Ramona",
                                    "first_name": "Beverly",
                                    "last_name": "Cleary"
                                },
                                {
                                    "title": "Organic Chemistry",
                                    "first_name": "Peter",
                                    "last_name": "Vollhardt"
                                }
                            ]
                        },
                        "text/html": "<table><tr><th>title</th><th>first_name</th><th>last_name</th></tr><tr><td>The Golden Compass</td><td>Phillip</td><td>Pullman</td></tr><tr><td>The Subtle Knife</td><td>Phillip</td><td>Pullman</td></tr><tr><td>The Amber Spyglass</td><td>Phillip</td><td>Pullman</td></tr><tr><td>The Alchemist</td><td>Paulo</td><td>Coelho</td></tr><tr><td>The Joy Luck Club</td><td>Amy</td><td>Tan</td></tr><tr><td>The Moon Lady</td><td>Amy</td><td>Tan</td></tr><tr><td>The Handmaids Tale</td><td>Margaret</td><td>Atwood</td></tr><tr><td>The Testaments</td><td>Margaret</td><td>Atwood</td></tr><tr><td>Still Life</td><td>Louise</td><td>Penny</td></tr><tr><td>A Fatal Grace</td><td>Louise</td><td>Penny</td></tr><tr><td>The Cruelest Month</td><td>Louise</td><td>Penny</td></tr><tr><td>The Murder Stone</td><td>Louise</td><td>Penny</td></tr><tr><td>The Brutal Telling</td><td>Louise</td><td>Penny</td></tr><tr><td>Bury Your Dead</td><td>Louise</td><td>Penny</td></tr><tr><td>A Trick of the Light</td><td>Louise</td><td>Penny</td></tr><tr><td>Midnights Children</td><td>Salman</td><td>Rushdie</td></tr><tr><td>Dont Let the Pigeon Drive the Bus!</td><td>Mo</td><td>Willems</td></tr><tr><td>Beezus and Ramona</td><td>Beverly</td><td>Cleary</td></tr><tr><td>Organic Chemistry</td><td>Peter</td><td>Vollhardt</td></tr></table>"
                    },
                    "metadata": {}
                }
            ],
            "execution_count": 29
        },
        {
            "cell_type": "markdown",
            "source": [
                "## **Part C: Loan Out a Book**\n",
                "                \n",
                "The library would like you to create a query that will update the database when a book is loaned out.\n",
                "\n",
                "This query needs to perform the following functions:\n",
                "\n",
                "1. Change **available** to **0** (false) for the appropriate book.\n",
                "2. Add a new row to the **loan** table with today's date as the `date_out` and the ids in the row matching the appropriate `patron_id` and `book_id`.\n",
                "3. Update the appropriate **patron** with the `loan_id` for the new row created in the **loan** table.\n",
                "\n",
                "You can use any patron and book that strikes your fancy to create and test out this query.\n",
                "\n",
                "> _Note:  Every time you test this, you will add an additional row to the output, creating a new loan id each time.  If you do not update the patron id, then a patron will have multiple loan ids.  This is not an issue for Part C;_ _however, this may cause issues when you work on Part F._"
            ],
            "metadata": {
                "azdata_cell_guid": "8c122e49-484f-45a2-af9c-8df1aecfa798"
            }
        },
        {
            "cell_type": "code",
            "source": [
                "-- Change available to 0 for the appropriate book\r\n",
                "\r\n",
                "UPDATE May2024JunkDB.shanthi.book\r\n",
                "SET available = 0\r\n",
                "WHERE book_id = 5\r\n",
                "\r\n",
                "-- Add a new row to the loan table with today's date as the date_out and in the row matching the appropriate patron_id and book_id\r\n",
                "  \r\n",
                "/* INSERT INTO May2024JunkDB.shanthi.loan\r\n",
                "(patron_id,date_out,date_in,book_id)\r\n",
                "VALUES (3,getdate(),NULL,5)*/\r\n",
                "\r\n",
                "UPDATE May2024JunkDB.shanthi.patron\r\n",
                "SET loan_id = 1\r\n",
                "WHERE patron_id = 3\r\n",
                "\r\n",
                "\r\n",
                ""
            ],
            "metadata": {
                "vscode": {
                    "languageId": "sql"
                },
                "azdata_cell_guid": "b90d8eed-f2a6-452b-8cf3-acddd5e8b5f4",
                "language": "sql"
            },
            "outputs": [
                {
                    "output_type": "display_data",
                    "data": {
                        "text/html": "(1 row affected)"
                    },
                    "metadata": {}
                },
                {
                    "output_type": "display_data",
                    "data": {
                        "text/html": "(1 row affected)"
                    },
                    "metadata": {}
                },
                {
                    "output_type": "display_data",
                    "data": {
                        "text/html": "Total execution time: 00:00:00.037"
                    },
                    "metadata": {}
                }
            ],
            "execution_count": 52
        },
        {
            "cell_type": "markdown",
            "source": [
                "## **Part D: Check a Book Back In**\n",
                "\n",
                "Work with the same patron and book as you create your query to check a book back into the library.\n",
                "\n",
                "The check a book back in, your query need to do the following:\n",
                "\n",
                "1. Change **available** to **1** (true) for the appropriate book.\n",
                "2. Update the appropriate row in the **loan** table with today's date as the `date_in`.\n",
                "3. Update the appropriate **patron** changing `loan_id` back to `NULL`.\n",
                "\n",
                "Once you have created these queries, loan out 5 new books to 5 different patrons."
            ],
            "metadata": {
                "azdata_cell_guid": "8414f2b2-555c-4510-af40-f2294fc2e956"
            }
        },
        {
            "cell_type": "code",
            "source": [
                "-- Change available to 1 for the appopriate book.\r\n",
                "UPDATE May2024JunkDB.shanthi.book\r\n",
                "SET available = 1\r\n",
                "WHERE book_id = 5\r\n",
                "\r\n",
                "--Update the appropriate row in the loan table with today's date as the date_in\r\n",
                "UPDATE May2024JunkDB.shanthi.loan\r\n",
                "SET date_in = GETDATE()\r\n",
                "WHERE loan_id = 1\r\n",
                "\r\n",
                "--Update the appropriate patron changing loan_id back to NULL\r\n",
                "UPDATE May2024JunkDB.shanthi.patron \r\n",
                "SET loan_id = NULL\r\n",
                "WHERE patron_id = 3\r\n",
                ""
            ],
            "metadata": {
                "vscode": {
                    "languageId": "sql"
                },
                "azdata_cell_guid": "81c5eb9f-7c0f-45c6-8b08-1f2e53505f38",
                "language": "sql"
            },
            "outputs": [
                {
                    "output_type": "display_data",
                    "data": {
                        "text/html": "(1 row affected)"
                    },
                    "metadata": {}
                },
                {
                    "output_type": "display_data",
                    "data": {
                        "text/html": "(1 row affected)"
                    },
                    "metadata": {}
                },
                {
                    "output_type": "display_data",
                    "data": {
                        "text/html": "(1 row affected)"
                    },
                    "metadata": {}
                },
                {
                    "output_type": "display_data",
                    "data": {
                        "text/html": "Total execution time: 00:00:00.034"
                    },
                    "metadata": {}
                }
            ],
            "execution_count": 39
        },
        {
            "cell_type": "markdown",
            "source": [
                "## **Part E: Create a temp table**\n",
                "\n",
                "Write a query that returns a temporary table for a patron that shows them all of their loans.\n",
                "\n",
                "_Question to think about:_  Why might a temp table be a good option for this type of query?"
            ],
            "metadata": {
                "azdata_cell_guid": "fa74f9b7-4512-4fb1-bfb4-92d0cc42513a"
            }
        },
        {
            "cell_type": "code",
            "source": [
                "-- Code your temp table here\r\n",
                "/*\r\n",
                "CREATE TABLE May2024JunkDB.shanthi.#patron_temp\r\n",
                "( patron_id int IDENTITY(1,1) PRIMARY KEY,\r\n",
                "first_name varchar(255),\r\n",
                "last_name varchar(255),\r\n",
                "loan_id int)\r\n",
                "*/\r\n",
                "\r\n",
                "\r\n",
                "CREATE TABLE #patron_temp\r\n",
                "(patron_id int IDENTITY(1,1) PRIMARY KEY,\r\n",
                "first_name varchar(255),\r\n",
                "last_name varchar(255),\r\n",
                "loan_id int )"
            ],
            "metadata": {
                "vscode": {
                    "languageId": "sql"
                },
                "azdata_cell_guid": "197a73da-0739-48bf-95b3-78a34f84635f",
                "language": "sql",
                "tags": []
            },
            "outputs": [
                {
                    "output_type": "display_data",
                    "data": {
                        "text/html": "Commands completed successfully."
                    },
                    "metadata": {}
                },
                {
                    "output_type": "display_data",
                    "data": {
                        "text/html": "Total execution time: 00:00:00.155"
                    },
                    "metadata": {}
                }
            ],
            "execution_count": 63
        },
        {
            "cell_type": "markdown",
            "source": [
                "## **Part F: Wrap-up Query**\n",
                "\n",
                "Create a query that returns the names of the patrons with the genre of every book they currently have checked out.\n",
                "\n",
                "Things to consider:  How are these tables related and connected to each other?\n",
                "\n",
                "> _Note:  If you find a NULL in your output instead of a loan id, this is likely because there are multiple loans per patron.  Try_ _clearing out the loan table. You can do this by either dropping the entire table or clearing specific rows._"
            ],
            "metadata": {
                "azdata_cell_guid": "c7cc8e8d-48ea-45b2-bfcf-d151bc9538fb"
            }
        },
        {
            "cell_type": "code",
            "source": [
                "-- Create your wrap-up query here.\r\n",
                "\r\n",
                "\r\n",
                "/* SELECT  p.first_name,\r\n",
                "        p.last_name,\r\n",
                "        g.genres\r\n",
                "        FROM May2024JunkDB.shanthi.patron as p,\r\n",
                "             May2024JunkDB.shanthi.genre as g\r\n",
                "    WHERE p.patron_id = (SELECT l.patron_id FROM May2024JunkDB.shanthi.loan as l WHERE p.patron_id = l.patron_id AND l.book_id = \r\n",
                "                            (SELECT b.book_id FROM May2024JunkDB.shanthi.book as b WHERE l.book_id = b.book_id And b.genre_id = \r\n",
                "                                (SELECT g.genre_id FROM May2024JunkDB.shanthi.genre as g WHERE b.genre_id = g.genre_id)\r\n",
                "                            )\r\n",
                "                        ) */\r\n",
                "\r\n",
                "\r\n",
                " SELECT P.FIRST_NAME,\r\n",
                "       P.LAST_NAME,\r\n",
                "       B.BOOK_ID,\r\n",
                "       B.TITLE,\r\n",
                "       G.GENRES\r\n",
                "       FROM May2024JunkDB.shanthi.patron P \r\n",
                "            JOIN May2024JunkDB.shanthi.loan L\r\n",
                "            ON L.patron_id = P.patron_id\r\n",
                "            JOIN May2024JunkDB.shanthi.book  B \r\n",
                "            ON B.book_id = L.book_id\r\n",
                "            JOIN May2024JunkDB.shanthi.genre G \r\n",
                "            ON G.genre_id = B.genre_id\r\n",
                "            \r\n",
                ""
            ],
            "metadata": {
                "vscode": {
                    "languageId": "sql"
                },
                "azdata_cell_guid": "70d86126-e397-4438-8213-f603463abbb3",
                "language": "sql"
            },
            "outputs": [
                {
                    "output_type": "display_data",
                    "data": {
                        "text/html": "(1 row affected)"
                    },
                    "metadata": {}
                },
                {
                    "output_type": "display_data",
                    "data": {
                        "text/html": "Total execution time: 00:00:00.047"
                    },
                    "metadata": {}
                },
                {
                    "output_type": "execute_result",
                    "execution_count": 62,
                    "data": {
                        "application/vnd.dataresource+json": {
                            "schema": {
                                "fields": [
                                    {
                                        "name": "FIRST_NAME"
                                    },
                                    {
                                        "name": "LAST_NAME"
                                    },
                                    {
                                        "name": "BOOK_ID"
                                    },
                                    {
                                        "name": "TITLE"
                                    },
                                    {
                                        "name": "GENRES"
                                    }
                                ]
                            },
                            "data": [
                                {
                                    "FIRST_NAME": "Vincent",
                                    "LAST_NAME": "Ritelli",
                                    "BOOK_ID": "5",
                                    "TITLE": "The Amber Spyglass",
                                    "GENRES": "Fantasy"
                                }
                            ]
                        },
                        "text/html": "<table><tr><th>FIRST_NAME</th><th>LAST_NAME</th><th>BOOK_ID</th><th>TITLE</th><th>GENRES</th></tr><tr><td>Vincent</td><td>Ritelli</td><td>5</td><td>The Amber Spyglass</td><td>Fantasy</td></tr></table>"
                    },
                    "metadata": {}
                }
            ],
            "execution_count": 62
        },
        {
            "cell_type": "markdown",
            "source": [
                "## **Bonus Challenge:**\n",
                "                \n",
                "This is an optional challenge.\n",
                "\n",
                "Create a new table for reference materials using the following code:\n",
                "\n",
                "```\n",
                "CREATE TABLE [DB].[schema].reference_books (\n",
                "    reference_id INT IDENTITY(1,1) PRIMARY KEY,\n",
                "    edition INT,\n",
                "    book_id INT,\n",
                "    book_id INT FOREIGN KEY REFERENCES [DB].[schema].book(book_id)\n",
                "        ON UPDATE SET NULL\n",
                "        ON DELETE SET NULL\n",
                ");\n",
                "```\n",
                "\n",
                "Fill the table with the following query:\n",
                "\n",
                "```\n",
                "INSERT INTO [DB].[schema].reference_books (edition, book_id)\n",
                "VALUE (5,32);\n",
                "```"
            ],
            "metadata": {
                "azdata_cell_guid": "284e70f8-72b4-489a-8a55-5d064218e8bb"
            }
        },
        {
            "cell_type": "code",
            "source": [
                "-- Create and fill your reference table here.\r\n",
                "/* CREATE TABLE May2024JunkDB.shanthi.reference_books (\r\n",
                "    reference_id INT IDENTITY(1,1) PRIMARY KEY,\r\n",
                "    edition INT,\r\n",
                "    \r\n",
                "    book_id INT FOREIGN KEY REFERENCES May2024JunkDB.shanthi.book(book_id)\r\n",
                "        ON UPDATE SET NULL\r\n",
                "        ON DELETE SET NULL\r\n",
                ")*/\r\n",
                "\r\n",
                "INSERT INTO May2024JunkDB.shanthi.reference_books (edition, book_id)\r\n",
                "VALUES (5,32);"
            ],
            "metadata": {
                "vscode": {
                    "languageId": "sql"
                },
                "azdata_cell_guid": "e54d3ac0-0557-443e-b9a1-d2f527dfcac3",
                "language": "sql"
            },
            "outputs": [
                {
                    "output_type": "display_data",
                    "data": {
                        "text/html": "(1 row affected)"
                    },
                    "metadata": {}
                },
                {
                    "output_type": "display_data",
                    "data": {
                        "text/html": "Total execution time: 00:00:00.038"
                    },
                    "metadata": {}
                }
            ],
            "execution_count": 47
        },
        {
            "cell_type": "markdown",
            "source": [
                "A reference book cannot leave the library. How would you modify either the **reference_book** table or the **book** table to make sure that doesn't happen? Try to apply your modifications."
            ],
            "metadata": {
                "azdata_cell_guid": "e436bd6d-7747-440c-b656-421b3f2aa5cf"
            }
        },
        {
            "cell_type": "code",
            "source": [
                "ALTER TABLE May2024JunkDB.shanthi.book\n",
                "ADD "
            ],
            "metadata": {
                "vscode": {
                    "languageId": "sql"
                },
                "azdata_cell_guid": "4e6e2381-b85b-4815-b3bb-7c6e26f5963f",
                "language": "sql"
            },
            "outputs": [],
            "execution_count": null
        }
    ]
}
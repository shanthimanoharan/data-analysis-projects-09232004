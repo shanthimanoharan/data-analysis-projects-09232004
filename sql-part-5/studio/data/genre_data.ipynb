{
    "metadata": {
        "kernelspec": {
            "name": "SQL",
            "display_name": "SQL",
            "language": "sql"
        },
        "language_info": {
            "name": "sql",
            "version": ""
        }
    },
    "nbformat_minor": 2,
    "nbformat": 4,
    "cells": [
        {
            "cell_type": "markdown",
            "source": [
                "# Starter code for the **Genre** table\n",
                "\n",
                "**Before You Start:** You will need to update the starter code with your database and schema information."
            ],
            "metadata": {
                "azdata_cell_guid": "dbbf9125-c3af-47da-9a0a-34d3cb49c92f"
            }
        },
        {
            "cell_type": "code",
            "source": [
                "-- populating genre table\n",
                "INSERT INTO May2024JunkDB.shanthi.genre(genre_id, genres)\n",
                "VALUES (1, 'Fantasy');\n",
                "\n",
                "INSERT INTO May2024JunkDB.shanthi.genre(genre_id, genres)\n",
                "VALUES (2, 'Adventure');\n",
                "\n",
                "INSERT INTO May2024JunkDB.shanthi.genre(genre_id, genres)\n",
                "VALUES (3, 'Romance');\n",
                "\n",
                "INSERT INTO May2024JunkDB.shanthi.genre(genre_id, genres)\n",
                "VALUES (4, 'Contemporary');\n",
                "\n",
                "INSERT INTO May2024JunkDB.shanthi.genre(genre_id, genres)\n",
                "VALUES (5, 'Dystopian');\n",
                "\n",
                "INSERT INTO May2024JunkDB.shanthi.genre(genre_id, genres)\n",
                "VALUES (6, 'Mystery');\n",
                "\n",
                "INSERT INTO May2024JunkDB.shanthi.genre(genre_id, genres)\n",
                "VALUES (7, 'Horror');\n",
                "\n",
                "INSERT INTO May2024JunkDB.shanthi.genre(genre_id, genres)\n",
                "VALUES (8, 'Thriller');\n",
                "\n",
                "INSERT INTO May2024JunkDB.shanthi.genre(genre_id, genres)\n",
                "VALUES (9, 'Paranormal');\n",
                "\n",
                "INSERT INTO May2024JunkDB.shanthi.genre(genre_id, genres)\n",
                "VALUES (10, 'Historical Fiction');\n",
                "\n",
                "INSERT INTO May2024JunkDB.shanthi.genre(genre_id, genres)\n",
                "VALUES (11, 'Science Fiction');\n",
                "\n",
                "INSERT INTO May2024JunkDB.shanthi.genre(genre_id, genres)\n",
                "VALUES (12, 'Memoir');\n",
                "\n",
                "INSERT INTO May2024JunkDB.shanthi.genre(genre_id, genres)\n",
                "VALUES (13, 'Cooking');\n",
                "\n",
                "INSERT INTO May2024JunkDB.shanthi.genre(genre_id, genres)\n",
                "VALUES (14, 'Art');\n",
                "\n",
                "INSERT INTO May2024JunkDB.shanthi.genre(genre_id, genres)\n",
                "VALUES (15, 'Self-Help');\n",
                "\n",
                "INSERT INTO May2024JunkDB.shanthi.genre(genre_id, genres)\n",
                "VALUES (16, 'Development');\n",
                "\n",
                "INSERT INTO May2024JunkDB.shanthi.genre(genre_id, genres)\n",
                "VALUES (17, 'Motivational');\n",
                "\n",
                "INSERT INTO May2024JunkDB.shanthi.genre(genre_id, genres)\n",
                "VALUES (18, 'Health');\n",
                "\n",
                "INSERT INTO May2024JunkDB.shanthi.genre(genre_id, genres)\n",
                "VALUES (19, 'History');\n",
                "\n",
                "INSERT INTO May2024JunkDB.shanthi.genre(genre_id, genres)\n",
                "VALUES (20, 'Travel');\n",
                "\n",
                "INSERT INTO May2024JunkDB.shanthi.genre(genre_id, genres)\n",
                "VALUES (21, 'Guide');\n",
                "\n",
                "INSERT INTO May2024JunkDB.shanthi.genre(genre_id, genres)\n",
                "VALUES (22, 'Families and Relationships');\n",
                "\n",
                "INSERT INTO May2024JunkDB.shanthi.genre(genre_id, genres)\n",
                "VALUES (23, 'Humor');\n",
                "\n",
                "INSERT INTO May2024JunkDB.shanthi.genre(genre_id, genres)\n",
                "VALUES (24, 'Childrens');\n",
                "\n",
                "INSERT INTO May2024JunkDB.shanthi.genre(genre_id, genres)\n",
                "VALUES (25, 'Reference');\n",
                "\n",
                "INSERT INTO May2024JunkDB.shanthi.genre(genre_id, genres)\n",
                "VALUES (26, 'Poetry');"
            ],
            "metadata": {
                "vscode": {
                    "languageId": "sql"
                },
                "azdata_cell_guid": "e2fa472e-29ba-4fd1-8e75-da15fd83ed21",
                "language": "sql"
            },
            "outputs": [],
            "execution_count": null
        }
    ]
}
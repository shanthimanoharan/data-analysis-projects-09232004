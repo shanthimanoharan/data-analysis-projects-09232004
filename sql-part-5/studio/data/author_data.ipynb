{
    "metadata": {
        "kernelspec": {
            "name": "SQL",
            "display_name": "SQL",
            "language": "sql"
        },
        "language_info": {
            "name": "sql",
            "version": ""
        }
    },
    "nbformat_minor": 2,
    "nbformat": 4,
    "cells": [
        {
            "cell_type": "markdown",
            "source": [
                "# Starter code for the **Author** table\n",
                "\n",
                "**Before You Start:** You will need to update the starter code with your database and schema information."
            ],
            "metadata": {
                "azdata_cell_guid": "3534c086-361a-4e10-8d17-9ffbec849741"
            }
        },
        {
            "cell_type": "code",
            "source": [
                "INSERT INTO May2024JunkDB.shanthi.author(first_name, last_name, birth_year, death_year)\n",
                "VALUES ('Phillip', 'Pullman', 1946, null);\n",
                "\n",
                "INSERT INTO May2024JunkDB.shanthi.author(first_name, last_name, birth_year, death_year)\n",
                "VALUES ('William', 'Shakespeare', 1564, 1616);\n",
                "\n",
                "INSERT INTO May2024JunkDB.shanthi.author(first_name, last_name, birth_year, death_year)\n",
                "VALUES ('Paulo', 'Coelho', 1947, null);\n",
                "\n",
                "INSERT INTO May2024JunkDB.shanthi.author(first_name, last_name, birth_year, death_year)\n",
                "VALUES ('Agatha', 'Christie', 1890-09-15, 1976-01-12);\n",
                "\n",
                "INSERT INTO May2024JunkDB.shanthi.author(first_name, last_name, birth_year, death_year)\n",
                "VALUES ('Amy', 'Tan', 1952-02-19, null);\n",
                "\n",
                "INSERT INTO May2024JunkDB.shanthi.author(first_name, last_name, birth_year, death_year)\n",
                "VALUES ('Jane', 'Austin', 1775-12-16, 1817-07-18);\n",
                "\n",
                "INSERT INTO May2024JunkDB.shanthi.author(first_name, last_name, birth_year, death_year)\n",
                "VALUES ('Emily', 'Bronte', 1818-07-30, 1848-12-19);\n",
                "\n",
                "INSERT INTO May2024JunkDB.shanthi.author(first_name, last_name, birth_year, death_year)\n",
                "VALUES ('Margaret', 'Atwood', 1939-11-18, null);\n",
                "\n",
                "INSERT INTO May2024JunkDB.shanthi.author(first_name, last_name, birth_year, death_year)\n",
                "VALUES ('Octavia', 'Butler', 1947-06-22, 2006-02-24);\n",
                "\n",
                "INSERT INTO May2024JunkDB.shanthi.author(first_name, last_name, birth_year, death_year)\n",
                "VALUES ('Louisa May', 'Alcott', 1832-11-29, 1888-03-06);\n",
                "\n",
                "INSERT INTO May2024JunkDB.shanthi.author(first_name, last_name, birth_year, death_year)\n",
                "VALUES ('Louise', 'Penny', 1958-07-01, null);\n",
                "\n",
                "INSERT INTO May2024JunkDB.shanthi.author(first_name, last_name, birth_year, death_year)\n",
                "VALUES ('Salman', 'Rushdie', 1947-08-19, null);\n",
                "\n",
                "INSERT INTO May2024JunkDB.shanthi.author(first_name, last_name, birth_year, death_year)\n",
                "VALUES ('Mo', 'Willems', 1968-02-11, null);\n",
                "\n",
                "INSERT INTO May2024JunkDB.shanthi.author(first_name, last_name, birth_year, death_year)\n",
                "VALUES ('Beverly', 'Cleary', 1916-04-12, null);\n",
                "\n",
                "INSERT INTO May2024JunkDB.shanthi.author(first_name, last_name, birth_year, death_year)\n",
                "VALUES ('Peter', 'Vollhardt', 1946-03-07, null);\n",
                "\n",
                "INSERT INTO May2024JunkDB.shanthi.author(first_name, last_name, birth_year, death_year)\n",
                "VALUES ('Maya', 'Angelou', 1928-04-04, 2014-05-28);\n",
                "\n",
                "INSERT INTO May2024JunkDB.shanthi.author(first_name, last_name, birth_year, death_year)\n",
                "VALUES ('Toni', 'Morrison', 1931-02-18, 2019-08-05);\n",
                "\n",
                "INSERT INTO May2024JunkDB.shanthi.author(first_name, last_name, birth_year, death_year)\n",
                "VALUES ('Shirley', 'LeFlore', 1940-03-06, 2019-05-12)"
            ],
            "metadata": {
                "vscode": {
                    "languageId": "sql"
                },
                "azdata_cell_guid": "83259e08-9752-4cb3-9712-c9b33660ea96",
                "language": "sql"
            },
            "outputs": [],
            "execution_count": null
        }
    ]
}
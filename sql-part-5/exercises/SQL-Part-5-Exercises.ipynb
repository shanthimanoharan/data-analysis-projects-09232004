{
    "metadata": {
        "kernelspec": {
            "name": "SQL",
            "display_name": "SQL",
            "language": "sql"
        },
        "language_info": {
            "name": "sql",
            "version": ""
        }
    },
    "nbformat_minor": 2,
    "nbformat": 4,
    "cells": [
        {
            "cell_type": "markdown",
            "source": [
                "# Exercises: Creating, Updating, and Destroying Objects\n",
                "\n",
                "For the exercises, you will be working with objects and data you create. Before opening this notebook, make sure that you have set up the new connection to the server and that you have located the database and your schema.\n",
                "\n",
                "## Object Creation\n",
                "\n",
                "Before coding, think of three things you want to make. These could be coding projects, new recipes, or planned projects for a woodworking hobby. Brainstorm the appropriate column names and data types as well.\n",
                "\n",
                "Create a table under your schema called `planned_makes`."
            ],
            "metadata": {
                "azdata_cell_guid": "62e1bbef-f366-4dca-b4c2-11d3724b44f4"
            }
        },
        {
            "cell_type": "code",
            "source": [
                "CREATE TABLE May2024JunkDB.shanthi.planned_makes\r\n",
                "( recipe_id int IDENTITY(1,1) primary key,\r\n",
                "  recipe_name nvarchar(255),\r\n",
                "  ingredients text,\r\n",
                "  instructions text,\r\n",
                "  difficulty varchar(50))"
            ],
            "metadata": {
                "vscode": {
                    "languageId": "sql"
                },
                "azdata_cell_guid": "79c69bcc-d06a-46ff-b1db-c06f931425eb",
                "language": "sql",
                "tags": []
            },
            "outputs": [
                {
                    "output_type": "display_data",
                    "data": {
                        "text/html": "Commands completed successfully."
                    },
                    "metadata": {}
                },
                {
                    "output_type": "display_data",
                    "data": {
                        "text/html": "Total execution time: 00:00:00.039"
                    },
                    "metadata": {}
                }
            ],
            "execution_count": 11
        },
        {
            "cell_type": "markdown",
            "source": [
                "Add three rows to your table that are your planned makes."
            ],
            "metadata": {
                "azdata_cell_guid": "52bddf2d-ec85-4f17-894d-c3e9e25e0f9b"
            }
        },
        {
            "cell_type": "code",
            "source": [
                "INSERT INTO May2024JunkDB.shanthi.planned_makes(recipe_name,ingredients,instructions,difficulty)\r\n",
                "values ('FRENCH TOAST','BREAD,EGG,MILK,BUTTER,SUGAR','WHISK EGG,SUGAR AND MILK,COAT EACH SLICE OF BREAD IN THE MIXTURE,COOK BREAD WITH BUTTER UNTIL GOLDENBROWN','EASY'),\r\n",
                "('SCRAMBLED EGG','BUTTER,EGG','LOW HEAT SKILLET WITH 4 TBSP OF BUTTER,WHISK EGGS AND POUR INTO SKILLET AND COOK','EASY'),\r\n",
                "('CHOCOLATE COOKIES','BROWN SUGAR,FLOUR,EGGS,CHOCOLATE CHIPS,BUTTER,BAKING SODA','BEAT BUTTER WITH BROWN SUGAR AND EGGS AND ADD THE MIXTURE WITH FLOUR,DROP SMALL AMOUNT OF DOUGH ONTO THE COOKIE SHEETS,BAKE','MEDIUM')"
            ],
            "metadata": {
                "vscode": {
                    "languageId": "sql"
                },
                "azdata_cell_guid": "3907e908-0531-4474-9f1d-3f45b5b2b351",
                "language": "sql"
            },
            "outputs": [
                {
                    "output_type": "display_data",
                    "data": {
                        "text/html": "(3 rows affected)"
                    },
                    "metadata": {}
                },
                {
                    "output_type": "display_data",
                    "data": {
                        "text/html": "Total execution time: 00:00:00.029"
                    },
                    "metadata": {}
                }
            ],
            "execution_count": 12
        },
        {
            "cell_type": "markdown",
            "source": [
                "## Update a Row\n",
                "\n",
                "Change different values in one of your three rows."
            ],
            "metadata": {
                "azdata_cell_guid": "79ab117c-7126-4a09-a3a4-7eb61d13dc80"
            }
        },
        {
            "cell_type": "code",
            "source": [
                "UPDATE May2024JunkDB.shanthi.planned_makes\r\n",
                "SET ingredients = '2TBSP BUTTER,4 EGGS'\r\n",
                "WHERE recipe_name = 'SCRAMBLED EGG'"
            ],
            "metadata": {
                "vscode": {
                    "languageId": "sql"
                },
                "azdata_cell_guid": "93bbc589-9e88-4293-8568-cbca9e2b0fdb",
                "language": "sql"
            },
            "outputs": [
                {
                    "output_type": "display_data",
                    "data": {
                        "text/html": "(1 row affected)"
                    },
                    "metadata": {}
                },
                {
                    "output_type": "display_data",
                    "data": {
                        "text/html": "Total execution time: 00:00:00.041"
                    },
                    "metadata": {}
                }
            ],
            "execution_count": 13
        },
        {
            "cell_type": "markdown",
            "source": [
                "## Delete a Row\n",
                "\n",
                "Delete one of the rows from your table."
            ],
            "metadata": {
                "azdata_cell_guid": "21e413ae-0277-4b73-8a3c-1ad88956b6c3"
            }
        },
        {
            "cell_type": "code",
            "source": [
                "DELETE FROM May2024JunkDB.shanthi.planned_makes\r\n",
                "WHERE recipe_name = 'FRENCH TOAST'"
            ],
            "metadata": {
                "vscode": {
                    "languageId": "sql"
                },
                "azdata_cell_guid": "f3632fe5-c562-4443-9fbc-3f26d4b2cd64",
                "language": "sql"
            },
            "outputs": [
                {
                    "output_type": "display_data",
                    "data": {
                        "text/html": "(1 row affected)"
                    },
                    "metadata": {}
                },
                {
                    "output_type": "display_data",
                    "data": {
                        "text/html": "Total execution time: 00:00:00.031"
                    },
                    "metadata": {}
                }
            ],
            "execution_count": 14
        },
        {
            "cell_type": "markdown",
            "source": [
                "## Drop the Table\n",
                "\n",
                "While this has been fun, it is time to drop the table!"
            ],
            "metadata": {
                "azdata_cell_guid": "144ae06e-589f-438e-b318-721121eca1ed"
            }
        },
        {
            "cell_type": "code",
            "source": [
                "DROP TABLE May2024JunkDB.shanthi.planned_makes"
            ],
            "metadata": {
                "vscode": {
                    "languageId": "sql"
                },
                "azdata_cell_guid": "84210f88-cae5-46bd-ba8c-896946d1795d",
                "language": "sql"
            },
            "outputs": [
                {
                    "output_type": "display_data",
                    "data": {
                        "text/html": "Commands completed successfully."
                    },
                    "metadata": {}
                },
                {
                    "output_type": "display_data",
                    "data": {
                        "text/html": "Total execution time: 00:00:00.033"
                    },
                    "metadata": {}
                }
            ],
            "execution_count": 10
        }
    ]
}
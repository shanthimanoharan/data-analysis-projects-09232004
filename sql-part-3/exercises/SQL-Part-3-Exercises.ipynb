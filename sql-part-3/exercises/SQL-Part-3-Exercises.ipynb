{
    "metadata": {
        "kernelspec": {
            "name": "SQL",
            "display_name": "SQL",
            "language": "sql"
        },
        "language_info": {
            "name": "sql",
            "version": ""
        }
    },
    "nbformat_minor": 2,
    "nbformat": 4,
    "cells": [
        {
            "cell_type": "markdown",
            "source": [
                "# SQL Part 3 Exercises: Joins\n",
                "\n",
                "This notebook works with `BooksDB`.\n",
                "\n",
                "**Questions 1-4** focus on how joins work in a more general sense.  If you are not sure how to best answer the questions, try manipulating the queries by changing the order of joins, the length of the TOP, or how they are ordered.\n",
                "\n",
                "Note: If some of the queries are not returning quickly, you can try closing and restarting azure data studio after a few minutes.\n",
                "\n",
                "In **questions 5-8**, you will be asked to join tables to find results about titles, tags, and the books users want to read.\n",
                "\n",
                "As you go through the questions, you will see 'Minimum Desired Output'.  This will provide you with the bare minimum columns needed to answer the questions.  When you write the queries, add as many additional columns as you need to best find your answers."
            ],
            "metadata": {
                "azdata_cell_guid": "8d68e725-f854-43c4-b1a1-5b412ae62dba"
            }
        },
        {
            "cell_type": "markdown",
            "source": [
                "## QUESTION 1: Exploring a `LEFT JOIN` using the `books` and `to_read` tables\n",
                "\n",
                "The code block below has been commented out. To answer this question, you will need to uncomment it by removing the `/*` (line 1) and `*/` (line 16).\n",
                "\n",
                "**Part A:** Look at Query 1, which table is the 'Left' table and which is the 'Right'?\n",
                "\n",
                "> Your Answer: Books table is the left table and to\\_read table is the right table.\n",
                "\n",
                "**Part B:** Using table 2, answer the following questions:\n",
                "\n",
                "- When we added a `WHERE tr.user_id IS NOT NULL` clause (line 14), how did the table change? Why?\n",
                "\n",
                "> Your Answer: Adding null check to the LEFT JOIN will result in the same output as that of the INNER JOIN"
            ],
            "metadata": {
                "azdata_cell_guid": "c6db288a-bf7b-4df7-bc80-abd66ee1f544"
            },
            "attachments": {}
        },
        {
            "cell_type": "code",
            "source": [
                "-- Query 1: LEFT JOIN\n",
                "SELECT TOP 50 b.title, b.average_rating, b.books_count,tr.user_id, tr.book_id\n",
                "FROM BooksDB.dbo.books AS b\n",
                "LEFT JOIN BooksDB.dbo.to_read AS tr\n",
                "ON b.best_book_id = tr.book_id\n",
                "ORDER BY b.average_rating;\n",
                "\n",
                "-- Query 2: LEFT JOIN USING 'IS NOT NULL'\n",
                "SELECT TOP 50 b.title, b.average_rating, b.books_count,tr.user_id, tr.book_id\n",
                "FROM BooksDB.dbo.books AS b\n",
                "LEFT JOIN BooksDB.dbo.to_read AS tr\n",
                "ON b.best_book_id = tr.book_id\n",
                "WHERE tr.user_id IS NOT NULL\n",
                "ORDER BY b.average_rating;"
            ],
            "metadata": {
                "vscode": {
                    "languageId": "sql"
                },
                "azdata_cell_guid": "35f23d62-b94b-4818-8092-ae99b786926d",
                "language": "sql"
            },
            "outputs": [],
            "execution_count": null
        },
        {
            "cell_type": "markdown",
            "source": [
                "## **QUESTION 2:** Exploring `RIGHT` joins with the `books` and `to_read` tables\n",
                "\n",
                "You will need to uncomment the query to answer the question.\n",
                "\n",
                "**Part A:** Looking at the query, which table is the 'Left' and which is the 'Right'?\n",
                "\n",
                "> Your Answer:  Books table is the left table and to\\_read table is the right table\n",
                "\n",
                "**Part B:** How do the RIGHT-joined tables differ from the LEFT-joined tables in Question 1?\n",
                "\n",
                "> Your Answer: RIGHT join table displays all the values in the right table and any matching records from the left table with null values for unamtched rows where as left joined table displays all the values in the left table and  any matching records from the right table with null values for unamatched rows."
            ],
            "metadata": {
                "azdata_cell_guid": "92527dac-062b-44d9-88ff-4ea93e958025"
            },
            "attachments": {}
        },
        {
            "cell_type": "code",
            "source": [
                "-- Query 1: RIGHT JOIN\n",
                "SELECT TOP 300 b.title, b.average_rating, b.books_count, tr.user_id, tr.book_id\n",
                "FROM BooksDB.dbo.books AS b\n",
                "RIGHT JOIN BooksDB.dbo.to_read AS tr\n",
                "ON b.best_book_id = tr.book_id;"
            ],
            "metadata": {
                "vscode": {
                    "languageId": "sql"
                },
                "azdata_cell_guid": "8d89175f-5c65-4941-a249-75e4f5ed68cf",
                "language": "sql"
            },
            "outputs": [],
            "execution_count": null
        },
        {
            "cell_type": "markdown",
            "source": [
                "##  **QUESTION 3:** Exploring FULL JOINS with the `books` and `to_read` tables\n",
                "\n",
                "You will need to uncomment the Query to answer the question.\n",
                "\n",
                "**Part A:** Look at the table and explore how it was populated. Try manipulating the query to better understand how this table works. Try adding a WHERE clause, or ORDER BY a column on the `books` table. Based on your exploration, can you think of when you might want a FULL join rather than a LEFT, RIGHT, or INNER?\n",
                "\n",
                "> Your Answer: FULL Join is beneficial when you need a complete view of two datasets, including all matches and non-matches from both tables."
            ],
            "metadata": {
                "azdata_cell_guid": "c771b2be-cc9b-434b-825d-69ce0f94771b"
            },
            "attachments": {}
        },
        {
            "cell_type": "code",
            "source": [
                "-- FULL JOIN\n",
                "SELECT TOP 30 b.title, b.average_rating, b.books_count,tr.user_id, tr.book_id\n",
                "FROM BooksDB.dbo.books AS b\n",
                "FULL JOIN BooksDB.dbo.to_read AS tr\n",
                "ON b.book_id = tr.book_id;"
            ],
            "metadata": {
                "vscode": {
                    "languageId": "sql"
                },
                "azdata_cell_guid": "47aff871-a92b-4efb-b7fd-6146c4f2530f",
                "language": "sql"
            },
            "outputs": [],
            "execution_count": null
        },
        {
            "cell_type": "markdown",
            "source": [
                "## **QUESTION 4:** Exploring INNER Joins with the `books` and `to_read` tables\n",
                "\n",
                "You will need to uncomment the Query to answer the question.\n",
                "\n",
                "**Part A:** What does an inner join do?\n",
                "\n",
                "> Your Answer: INNER JOIN returns rows ONLY when there is a match in both tables.\n",
                "\n",
                "**Part B:** Currently this table has an `'IS NOT NULL'` in the `WHERE` clause. Is this necessary for this table? Why or Why not?\n",
                "\n",
                "> Your Answer: No it is not necessary ,because INNER JOIN returns only the values which are match in both the tables. it wont produce the non matched rows.\n",
                "\n",
                "**Part C:** When using SQL, you are usually returning much larger tables so every line of code will add to the compilation and return time. Rewrite this inner join query so that it contains no redundant code.\n",
                "\n",
                "> Your Answer: Update the query in the code box below."
            ],
            "metadata": {
                "azdata_cell_guid": "eabf57a3-b46d-4885-9e52-fe6420bca36d"
            },
            "attachments": {}
        },
        {
            "cell_type": "code",
            "source": [
                "-- INNER JOIN\n",
                "SELECT TOP 30 b.title, b.average_rating, b.books_count,tr.user_id, tr.book_id\n",
                "FROM BooksDB.dbo.books AS b\n",
                "INNER JOIN BooksDB.dbo.to_read AS tr\n",
                "ON b.book_id = tr.book_id\n",
                "--WHERE b.title IS NOT NULL\n",
                "ORDER BY tr.book_id;"
            ],
            "metadata": {
                "vscode": {
                    "languageId": "sql"
                },
                "azdata_cell_guid": "ec2a288b-51ca-414f-8adf-3fdfefff7ba4",
                "language": "sql"
            },
            "outputs": [
                {
                    "output_type": "display_data",
                    "data": {
                        "text/html": "(30 rows affected)"
                    },
                    "metadata": {}
                },
                {
                    "output_type": "display_data",
                    "data": {
                        "text/html": "Total execution time: 00:00:00.161"
                    },
                    "metadata": {}
                },
                {
                    "output_type": "execute_result",
                    "execution_count": 1,
                    "data": {
                        "application/vnd.dataresource+json": {
                            "schema": {
                                "fields": [
                                    {
                                        "name": "title"
                                    },
                                    {
                                        "name": "average_rating"
                                    },
                                    {
                                        "name": "books_count"
                                    },
                                    {
                                        "name": "user_id"
                                    },
                                    {
                                        "name": "book_id"
                                    }
                                ]
                            },
                            "data": [
                                {
                                    "title": "Harry Potter and the Half-Blood Prince (Harry Potter, #6)",
                                    "average_rating": "4.54",
                                    "books_count": "275",
                                    "user_id": "12",
                                    "book_id": "1"
                                },
                                {
                                    "title": "Harry Potter and the Half-Blood Prince (Harry Potter, #6)",
                                    "average_rating": "4.54",
                                    "books_count": "275",
                                    "user_id": "192",
                                    "book_id": "1"
                                },
                                {
                                    "title": "Harry Potter and the Half-Blood Prince (Harry Potter, #6)",
                                    "average_rating": "4.54",
                                    "books_count": "275",
                                    "user_id": "202",
                                    "book_id": "1"
                                },
                                {
                                    "title": "Harry Potter and the Half-Blood Prince (Harry Potter, #6)",
                                    "average_rating": "4.54",
                                    "books_count": "275",
                                    "user_id": "244",
                                    "book_id": "1"
                                },
                                {
                                    "title": "Harry Potter and the Half-Blood Prince (Harry Potter, #6)",
                                    "average_rating": "4.54",
                                    "books_count": "275",
                                    "user_id": "253",
                                    "book_id": "1"
                                },
                                {
                                    "title": "Harry Potter and the Half-Blood Prince (Harry Potter, #6)",
                                    "average_rating": "4.54",
                                    "books_count": "275",
                                    "user_id": "350",
                                    "book_id": "1"
                                },
                                {
                                    "title": "Harry Potter and the Half-Blood Prince (Harry Potter, #6)",
                                    "average_rating": "4.54",
                                    "books_count": "275",
                                    "user_id": "478",
                                    "book_id": "1"
                                },
                                {
                                    "title": "Harry Potter and the Half-Blood Prince (Harry Potter, #6)",
                                    "average_rating": "4.54",
                                    "books_count": "275",
                                    "user_id": "511",
                                    "book_id": "1"
                                },
                                {
                                    "title": "Harry Potter and the Half-Blood Prince (Harry Potter, #6)",
                                    "average_rating": "4.54",
                                    "books_count": "275",
                                    "user_id": "525",
                                    "book_id": "1"
                                },
                                {
                                    "title": "Harry Potter and the Half-Blood Prince (Harry Potter, #6)",
                                    "average_rating": "4.54",
                                    "books_count": "275",
                                    "user_id": "527",
                                    "book_id": "1"
                                },
                                {
                                    "title": "Harry Potter and the Half-Blood Prince (Harry Potter, #6)",
                                    "average_rating": "4.54",
                                    "books_count": "275",
                                    "user_id": "552",
                                    "book_id": "1"
                                },
                                {
                                    "title": "Harry Potter and the Half-Blood Prince (Harry Potter, #6)",
                                    "average_rating": "4.54",
                                    "books_count": "275",
                                    "user_id": "644",
                                    "book_id": "1"
                                },
                                {
                                    "title": "Harry Potter and the Half-Blood Prince (Harry Potter, #6)",
                                    "average_rating": "4.54",
                                    "books_count": "275",
                                    "user_id": "754",
                                    "book_id": "1"
                                },
                                {
                                    "title": "Harry Potter and the Half-Blood Prince (Harry Potter, #6)",
                                    "average_rating": "4.54",
                                    "books_count": "275",
                                    "user_id": "826",
                                    "book_id": "1"
                                },
                                {
                                    "title": "Harry Potter and the Half-Blood Prince (Harry Potter, #6)",
                                    "average_rating": "4.54",
                                    "books_count": "275",
                                    "user_id": "1043",
                                    "book_id": "1"
                                },
                                {
                                    "title": "Harry Potter and the Half-Blood Prince (Harry Potter, #6)",
                                    "average_rating": "4.54",
                                    "books_count": "275",
                                    "user_id": "1205",
                                    "book_id": "1"
                                },
                                {
                                    "title": "Harry Potter and the Half-Blood Prince (Harry Potter, #6)",
                                    "average_rating": "4.54",
                                    "books_count": "275",
                                    "user_id": "1442",
                                    "book_id": "1"
                                },
                                {
                                    "title": "Harry Potter and the Half-Blood Prince (Harry Potter, #6)",
                                    "average_rating": "4.54",
                                    "books_count": "275",
                                    "user_id": "1470",
                                    "book_id": "1"
                                },
                                {
                                    "title": "Harry Potter and the Half-Blood Prince (Harry Potter, #6)",
                                    "average_rating": "4.54",
                                    "books_count": "275",
                                    "user_id": "1712",
                                    "book_id": "1"
                                },
                                {
                                    "title": "Harry Potter and the Half-Blood Prince (Harry Potter, #6)",
                                    "average_rating": "4.54",
                                    "books_count": "275",
                                    "user_id": "1814",
                                    "book_id": "1"
                                },
                                {
                                    "title": "Harry Potter and the Half-Blood Prince (Harry Potter, #6)",
                                    "average_rating": "4.54",
                                    "books_count": "275",
                                    "user_id": "1919",
                                    "book_id": "1"
                                },
                                {
                                    "title": "Harry Potter and the Half-Blood Prince (Harry Potter, #6)",
                                    "average_rating": "4.54",
                                    "books_count": "275",
                                    "user_id": "2051",
                                    "book_id": "1"
                                },
                                {
                                    "title": "Harry Potter and the Half-Blood Prince (Harry Potter, #6)",
                                    "average_rating": "4.54",
                                    "books_count": "275",
                                    "user_id": "2052",
                                    "book_id": "1"
                                },
                                {
                                    "title": "Harry Potter and the Half-Blood Prince (Harry Potter, #6)",
                                    "average_rating": "4.54",
                                    "books_count": "275",
                                    "user_id": "2158",
                                    "book_id": "1"
                                },
                                {
                                    "title": "Harry Potter and the Half-Blood Prince (Harry Potter, #6)",
                                    "average_rating": "4.54",
                                    "books_count": "275",
                                    "user_id": "2160",
                                    "book_id": "1"
                                },
                                {
                                    "title": "Harry Potter and the Half-Blood Prince (Harry Potter, #6)",
                                    "average_rating": "4.54",
                                    "books_count": "275",
                                    "user_id": "2345",
                                    "book_id": "1"
                                },
                                {
                                    "title": "Harry Potter and the Half-Blood Prince (Harry Potter, #6)",
                                    "average_rating": "4.54",
                                    "books_count": "275",
                                    "user_id": "2476",
                                    "book_id": "1"
                                },
                                {
                                    "title": "Harry Potter and the Half-Blood Prince (Harry Potter, #6)",
                                    "average_rating": "4.54",
                                    "books_count": "275",
                                    "user_id": "2523",
                                    "book_id": "1"
                                },
                                {
                                    "title": "Harry Potter and the Half-Blood Prince (Harry Potter, #6)",
                                    "average_rating": "4.54",
                                    "books_count": "275",
                                    "user_id": "2623",
                                    "book_id": "1"
                                },
                                {
                                    "title": "Harry Potter and the Half-Blood Prince (Harry Potter, #6)",
                                    "average_rating": "4.54",
                                    "books_count": "275",
                                    "user_id": "2673",
                                    "book_id": "1"
                                }
                            ]
                        },
                        "text/html": "<table><tr><th>title</th><th>average_rating</th><th>books_count</th><th>user_id</th><th>book_id</th></tr><tr><td>Harry Potter and the Half-Blood Prince (Harry Potter, #6)</td><td>4.54</td><td>275</td><td>12</td><td>1</td></tr><tr><td>Harry Potter and the Half-Blood Prince (Harry Potter, #6)</td><td>4.54</td><td>275</td><td>192</td><td>1</td></tr><tr><td>Harry Potter and the Half-Blood Prince (Harry Potter, #6)</td><td>4.54</td><td>275</td><td>202</td><td>1</td></tr><tr><td>Harry Potter and the Half-Blood Prince (Harry Potter, #6)</td><td>4.54</td><td>275</td><td>244</td><td>1</td></tr><tr><td>Harry Potter and the Half-Blood Prince (Harry Potter, #6)</td><td>4.54</td><td>275</td><td>253</td><td>1</td></tr><tr><td>Harry Potter and the Half-Blood Prince (Harry Potter, #6)</td><td>4.54</td><td>275</td><td>350</td><td>1</td></tr><tr><td>Harry Potter and the Half-Blood Prince (Harry Potter, #6)</td><td>4.54</td><td>275</td><td>478</td><td>1</td></tr><tr><td>Harry Potter and the Half-Blood Prince (Harry Potter, #6)</td><td>4.54</td><td>275</td><td>511</td><td>1</td></tr><tr><td>Harry Potter and the Half-Blood Prince (Harry Potter, #6)</td><td>4.54</td><td>275</td><td>525</td><td>1</td></tr><tr><td>Harry Potter and the Half-Blood Prince (Harry Potter, #6)</td><td>4.54</td><td>275</td><td>527</td><td>1</td></tr><tr><td>Harry Potter and the Half-Blood Prince (Harry Potter, #6)</td><td>4.54</td><td>275</td><td>552</td><td>1</td></tr><tr><td>Harry Potter and the Half-Blood Prince (Harry Potter, #6)</td><td>4.54</td><td>275</td><td>644</td><td>1</td></tr><tr><td>Harry Potter and the Half-Blood Prince (Harry Potter, #6)</td><td>4.54</td><td>275</td><td>754</td><td>1</td></tr><tr><td>Harry Potter and the Half-Blood Prince (Harry Potter, #6)</td><td>4.54</td><td>275</td><td>826</td><td>1</td></tr><tr><td>Harry Potter and the Half-Blood Prince (Harry Potter, #6)</td><td>4.54</td><td>275</td><td>1043</td><td>1</td></tr><tr><td>Harry Potter and the Half-Blood Prince (Harry Potter, #6)</td><td>4.54</td><td>275</td><td>1205</td><td>1</td></tr><tr><td>Harry Potter and the Half-Blood Prince (Harry Potter, #6)</td><td>4.54</td><td>275</td><td>1442</td><td>1</td></tr><tr><td>Harry Potter and the Half-Blood Prince (Harry Potter, #6)</td><td>4.54</td><td>275</td><td>1470</td><td>1</td></tr><tr><td>Harry Potter and the Half-Blood Prince (Harry Potter, #6)</td><td>4.54</td><td>275</td><td>1712</td><td>1</td></tr><tr><td>Harry Potter and the Half-Blood Prince (Harry Potter, #6)</td><td>4.54</td><td>275</td><td>1814</td><td>1</td></tr><tr><td>Harry Potter and the Half-Blood Prince (Harry Potter, #6)</td><td>4.54</td><td>275</td><td>1919</td><td>1</td></tr><tr><td>Harry Potter and the Half-Blood Prince (Harry Potter, #6)</td><td>4.54</td><td>275</td><td>2051</td><td>1</td></tr><tr><td>Harry Potter and the Half-Blood Prince (Harry Potter, #6)</td><td>4.54</td><td>275</td><td>2052</td><td>1</td></tr><tr><td>Harry Potter and the Half-Blood Prince (Harry Potter, #6)</td><td>4.54</td><td>275</td><td>2158</td><td>1</td></tr><tr><td>Harry Potter and the Half-Blood Prince (Harry Potter, #6)</td><td>4.54</td><td>275</td><td>2160</td><td>1</td></tr><tr><td>Harry Potter and the Half-Blood Prince (Harry Potter, #6)</td><td>4.54</td><td>275</td><td>2345</td><td>1</td></tr><tr><td>Harry Potter and the Half-Blood Prince (Harry Potter, #6)</td><td>4.54</td><td>275</td><td>2476</td><td>1</td></tr><tr><td>Harry Potter and the Half-Blood Prince (Harry Potter, #6)</td><td>4.54</td><td>275</td><td>2523</td><td>1</td></tr><tr><td>Harry Potter and the Half-Blood Prince (Harry Potter, #6)</td><td>4.54</td><td>275</td><td>2623</td><td>1</td></tr><tr><td>Harry Potter and the Half-Blood Prince (Harry Potter, #6)</td><td>4.54</td><td>275</td><td>2673</td><td>1</td></tr></table>"
                    },
                    "metadata": {}
                }
            ],
            "execution_count": 1
        },
        {
            "cell_type": "markdown",
            "source": [
                "## **QUESTION 5:** Using joins to find the most tagged book and the most popular tag\n",
                "\n",
                "We will be writing 3 queries to find both the most tagged book and that book's most popular tag.\n",
                "\n",
                "**Part A:** What is the most tagged book?\n",
                "\n",
                "Start by joining the `books` and `book_tags` tables ON the `books.best_book_id` and `book_tags.goodreads_book_id`. We want the _most popular_ book, so think about ordering the table in a way that will display both the book title and the number of times a book tag has been used.\n",
                "\n",
                "Minimum Desired output:\\_ The title of the most tagged book, and the number of times the book has been tagged.\n",
                "\n",
                "**Title: The title of the most tagged book is 'The Alchemist',this book has been tagged for 596234 times.**\n",
                "\n",
                "**Part B:** <span style=\"color: var(--vscode-foreground);\">How many different tags have been used for the most tagged book?</span>\n",
                "\n",
                "Start by joining the `books` and `book_tags` tables ON the `books.best_book_id` and `book_tags.goodreads_book_id`. We want to find the _most popular_ tag id, so think about ordering in a way that will display the most popular tag id.\n",
                "\n",
                "_Minimum Desired Output:_ The tag id for the most popular tag used for the most tagged book.\n",
                "\n",
                "**Tag Id: 30574**\n",
                "\n",
                "**Part C:** What is this particular tag?\n",
                "\n",
                "You may return this answer with a simple query.\n",
                "\n",
                "_Minimum Desired Output:_ The tag name for the most popular tag used for the most tagged book.\n",
                "\n",
                "**Tag Name: to-read**"
            ],
            "metadata": {
                "azdata_cell_guid": "5beddace-3351-4752-a84e-7dae5ef65f38"
            },
            "attachments": {}
        },
        {
            "cell_type": "code",
            "source": [
                "SELECT TOP 1 b.title\r\n",
                "FROM BooksDB.dbo.books AS b\r\n",
                "JOIN BooksDB.dbo.book_tags AS bt\r\n",
                "ON b.best_book_id= bt.goodreads_book_id\r\n",
                "ORDER by bt.count desc\r\n",
                "\r\n",
                "/*SELECT TOP 1 b.title,bt.tag_id\r\n",
                "FROM BooksDB.dbo.books AS b\r\n",
                "JOIN BooksDB.dbo.book_tags AS bt\r\n",
                "ON b.best_book_id= bt.goodreads_book_id  we can use--where b.title='the Alchemist'\r\n",
                "ORDER by bt.count desc*/\r\n",
                "\r\n",
                "/*SELECT tag_name\r\n",
                "FROM BooksDB.dbo.tags\r\n",
                "WHERE tag_id = 30574*/"
            ],
            "metadata": {
                "vscode": {
                    "languageId": "sql"
                },
                "azdata_cell_guid": "65cc4ea1-f586-4dfe-bfa4-fe6da552911f",
                "language": "sql"
            },
            "outputs": [
                {
                    "output_type": "display_data",
                    "data": {
                        "text/html": "(1 row affected)"
                    },
                    "metadata": {}
                },
                {
                    "output_type": "display_data",
                    "data": {
                        "text/html": "Total execution time: 00:00:00.933"
                    },
                    "metadata": {}
                },
                {
                    "output_type": "execute_result",
                    "execution_count": 24,
                    "data": {
                        "application/vnd.dataresource+json": {
                            "schema": {
                                "fields": [
                                    {
                                        "name": "title"
                                    }
                                ]
                            },
                            "data": [
                                {
                                    "title": "The Alchemist"
                                }
                            ]
                        },
                        "text/html": "<table><tr><th>title</th></tr><tr><td>The Alchemist</td></tr></table>"
                    },
                    "metadata": {}
                }
            ],
            "execution_count": 24
        },
        {
            "cell_type": "markdown",
            "source": [
                "## QUESTION 6: Find a book based on a tag of your choice using joins.\n",
                "\n",
                "Some suggestions: any hobbies you like? baking, drawing, etc. how about favorite holidays, subjects, animals, etc?\n",
                "\n",
                "**Part A:** Explore the tags table for a tag of your choice. Suggested ideas, try searching for one of your hobbies, a favorite time of year, favorite animal, etc. Start by querying the tag table for your chosen tag. (_Hint:_ in order to make sure you find all combinations of your tags, use the wildcard). If your query returns more than one result, pick your favorite.\n",
                "\n",
                "Here is an example. Alyce wanted to search for Halloween books. She used the wildcard, `%halloween%` and 8 different combinations were found. Alyce selected `halloween-storytime`, with a tag id of 13877.\n",
                "\n",
                "_Minimum Desired Output:_ tag name and tag id\n",
                "\n",
                "**Your Tag and Tag Id: Tag name: cookbooks\\_diets\\_health. Tag Id- 8159.**\n",
                "\n",
                "**Part B:** Now that you have the tag id, find the title that was tagged the most with this tag by joining the `books` and `books_tags` tables.\n",
                "\n",
                "Alyce joined the book table with the tags table and discovered that \"The Little Old Lady Who Was Not Afraid of Anything\" was tagged as `halloween-storytime` the most.\n",
                "\n",
                "_Minimum Desired Output:_ title and tag count\n",
                "\n",
                "**Your Title and Number of times the tag was used: Book \"****Barefoot Contessa Family Style: Easy Ideas and Recipes That Make Everyone Feel Like Family\" was tagged as \"cookbooks\\_diets\\_health\" 1 time.**"
            ],
            "metadata": {
                "azdata_cell_guid": "01edf9e7-486d-48f4-9025-df6c79ed3037"
            },
            "attachments": {}
        },
        {
            "cell_type": "code",
            "source": [
                "-- Favourite hobby cooking choice books\r\n",
                "/*SELECT tag_id,tag_name\r\n",
                "FROM BooksDB.dbo.tags\r\n",
                "WHERE tag_name like '%cook%'*/\r\n",
                "\r\n",
                "SELECT top 1 b.title,bt.tag_id,bt.count\r\n",
                "from BooksDB.dbo.books AS b\r\n",
                "JOIN BooksDB.dbo.book_tags AS bt\r\n",
                "ON b.best_book_id = bt.goodreads_book_id\r\n",
                "WHERE bt.tag_id = 8159\r\n",
                "ORDER by bt.count desc"
            ],
            "metadata": {
                "vscode": {
                    "languageId": "sql"
                },
                "azdata_cell_guid": "5419d379-301f-4f22-9fd7-9e6fb776d1f6",
                "language": "sql"
            },
            "outputs": [
                {
                    "output_type": "display_data",
                    "data": {
                        "text/html": "(1 row affected)"
                    },
                    "metadata": {}
                },
                {
                    "output_type": "display_data",
                    "data": {
                        "text/html": "Total execution time: 00:00:00.138"
                    },
                    "metadata": {}
                },
                {
                    "output_type": "execute_result",
                    "execution_count": 28,
                    "data": {
                        "application/vnd.dataresource+json": {
                            "schema": {
                                "fields": [
                                    {
                                        "name": "title"
                                    },
                                    {
                                        "name": "tag_id"
                                    },
                                    {
                                        "name": "count"
                                    }
                                ]
                            },
                            "data": [
                                {
                                    "title": "Barefoot Contessa Family Style: Easy Ideas and Recipes That Make Everyone Feel Like Family",
                                    "tag_id": "8159",
                                    "count": "1"
                                }
                            ]
                        },
                        "text/html": "<table><tr><th>title</th><th>tag_id</th><th>count</th></tr><tr><td>Barefoot Contessa Family Style: Easy Ideas and Recipes That Make Everyone Feel Like Family</td><td>8159</td><td>1</td></tr></table>"
                    },
                    "metadata": {}
                }
            ],
            "execution_count": 28
        },
        {
            "cell_type": "markdown",
            "source": [
                "## **QUESTION 7:** What are the top 10 most popular book titles on the 'to read' list?\n",
                "\n",
                "**Part A:** Explore how the `to_read` and `books` tables are organized, and then join them. What will you use as a key?\n",
                "\n",
                "Your Answer: we can  use book\\_id as a key\n",
                "\n",
                "**Part B:** Organize your newly joined table in a way that groups popularity based on the title based on users.\n",
                "\n",
                "_Hint:_ Suggest using an alias for the aggregation you will need to run on the `user_id`\n",
                "\n",
                "_Minimum Desired Output:_ title and aliased column"
            ],
            "metadata": {
                "azdata_cell_guid": "76a9eb1b-34be-42f0-8f95-630bd6abd13d"
            },
            "attachments": {}
        },
        {
            "cell_type": "code",
            "source": [
                "SELECT  TOP 10 \r\n",
                "        B.TITLE AS Popular_Title,\r\n",
                "        COUNT(TR.USER_ID) AS User_Count_To_Read\r\n",
                "    FROM BOOKSDB.DBO.BOOKS AS B\r\n",
                "        JOIN BOOKSDB.DBO.TO_READ AS TR\r\n",
                "        ON B.BOOK_ID = TR.BOOK_ID\r\n",
                "    GROUP BY B.TITLE\r\n",
                "    ORDER BY User_Count_To_Read DESC"
            ],
            "metadata": {
                "vscode": {
                    "languageId": "sql"
                },
                "azdata_cell_guid": "b932deae-4f3b-4304-87ec-a4e886e6d435",
                "language": "sql",
                "tags": []
            },
            "outputs": [
                {
                    "output_type": "display_data",
                    "data": {
                        "text/html": "(10 rows affected)"
                    },
                    "metadata": {}
                },
                {
                    "output_type": "display_data",
                    "data": {
                        "text/html": "Total execution time: 00:00:00.439"
                    },
                    "metadata": {}
                },
                {
                    "output_type": "execute_result",
                    "execution_count": 38,
                    "data": {
                        "application/vnd.dataresource+json": {
                            "schema": {
                                "fields": [
                                    {
                                        "name": "Popular_Title"
                                    },
                                    {
                                        "name": "User_Count_To_Read"
                                    }
                                ]
                            },
                            "data": [
                                {
                                    "Popular_Title": "The Ultimate Hitchhiker's Guide to the Galaxy",
                                    "User_Count_To_Read": "1812"
                                },
                                {
                                    "Popular_Title": "The Hitchhiker's Guide to the Galaxy (Hitchhiker's Guide to the Galaxy, #1)",
                                    "User_Count_To_Read": "1767"
                                },
                                {
                                    "Popular_Title": "The Lord of the Rings: The Art of The Fellowship of the Ring",
                                    "User_Count_To_Read": "1499"
                                },
                                {
                                    "Popular_Title": "Harry Potter Boxed Set, Books 1-5 (Harry Potter, #1-5)",
                                    "User_Count_To_Read": "1498"
                                },
                                {
                                    "Popular_Title": "Harry Potter and the Goblet of Fire (Harry Potter, #4)",
                                    "User_Count_To_Read": "1484"
                                },
                                {
                                    "Popular_Title": "The Known World",
                                    "User_Count_To_Read": "1352"
                                },
                                {
                                    "Popular_Title": "Harry Potter and the Prisoner of Azkaban (Harry Potter, #3)",
                                    "User_Count_To_Read": "1293"
                                },
                                {
                                    "Popular_Title": "The Lord of the Rings: Weapons and Warfare",
                                    "User_Count_To_Read": "1211"
                                },
                                {
                                    "Popular_Title": "Notes from a Small Island",
                                    "User_Count_To_Read": "1148"
                                },
                                {
                                    "Popular_Title": "Harry Potter Collection (Harry Potter, #1-6)",
                                    "User_Count_To_Read": "1110"
                                }
                            ]
                        },
                        "text/html": "<table><tr><th>Popular_Title</th><th>User_Count_To_Read</th></tr><tr><td>The Ultimate Hitchhiker&#39;s Guide to the Galaxy</td><td>1812</td></tr><tr><td>The Hitchhiker&#39;s Guide to the Galaxy (Hitchhiker&#39;s Guide to the Galaxy, #1)</td><td>1767</td></tr><tr><td>The Lord of the Rings: The Art of The Fellowship of the Ring</td><td>1499</td></tr><tr><td>Harry Potter Boxed Set, Books 1-5 (Harry Potter, #1-5)</td><td>1498</td></tr><tr><td>Harry Potter and the Goblet of Fire (Harry Potter, #4)</td><td>1484</td></tr><tr><td>The Known World</td><td>1352</td></tr><tr><td>Harry Potter and the Prisoner of Azkaban (Harry Potter, #3)</td><td>1293</td></tr><tr><td>The Lord of the Rings: Weapons and Warfare</td><td>1211</td></tr><tr><td>Notes from a Small Island</td><td>1148</td></tr><tr><td>Harry Potter Collection (Harry Potter, #1-6)</td><td>1110</td></tr></table>"
                    },
                    "metadata": {}
                }
            ],
            "execution_count": 38
        },
        {
            "cell_type": "markdown",
            "source": [
                "## **QUESTION 8:** Largest 'To Read' Lists\n",
                "\n",
                "**Part A:**  Create a query that returns a table that contains the top 10 users with the most number of titles on their 'to read' list.    Group all the entries by `user_id`.\n",
                "\n",
                "_Hint:_ You might want an alias for the titles.\n",
                "\n",
                "_Minimum Desired Output:_ `user_id` and your aliased column of titles.\n",
                "\n",
                "**Part B:**  The longest list length is 15 titles total, and is shared by 4 different users.  Select one of the uses and print out their entire 'to read' list."
            ],
            "metadata": {
                "azdata_cell_guid": "6cee27f9-022d-4ae7-83ec-01232fbb1ecd"
            }
        },
        {
            "cell_type": "code",
            "source": [
                "/*SELECT  TOP 10 \r\n",
                "        TR.USER_ID AS Top_User,\r\n",
                "        COUNT(B.TITLE) AS Title_Count\r\n",
                "    FROM BOOKSDB.DBO.BOOKS AS B\r\n",
                "        JOIN BOOKSDB.DBO.TO_READ AS TR\r\n",
                "        ON B.BOOK_ID = TR.BOOK_ID\r\n",
                "    GROUP BY TR.USER_ID\r\n",
                "    ORDER BY Title_Count DESC*/\r\n",
                "\r\n",
                "-- For user_id 14771\r\n",
                "\r\n",
                "SELECT  TR.USER_ID AS Top_User,\r\n",
                "        TR.BOOK_ID,\r\n",
                "        B.TITLE\r\n",
                "    FROM BOOKSDB.DBO.BOOKS AS B\r\n",
                "        JOIN BOOKSDB.DBO.TO_READ AS TR\r\n",
                "        ON B.BOOK_ID = TR.BOOK_ID\r\n",
                "    WHERE TR.USER_ID = 14771\r\n",
                "        ORDER BY TR.BOOK_ID"
            ],
            "metadata": {
                "vscode": {
                    "languageId": "sql"
                },
                "azdata_cell_guid": "a86df747-6cd7-4c10-88df-1ec8024c99c2",
                "language": "sql"
            },
            "outputs": [
                {
                    "output_type": "display_data",
                    "data": {
                        "text/html": "(15 rows affected)"
                    },
                    "metadata": {}
                },
                {
                    "output_type": "display_data",
                    "data": {
                        "text/html": "Total execution time: 00:00:00.191"
                    },
                    "metadata": {}
                },
                {
                    "output_type": "execute_result",
                    "execution_count": 40,
                    "data": {
                        "application/vnd.dataresource+json": {
                            "schema": {
                                "fields": [
                                    {
                                        "name": "Top_User"
                                    },
                                    {
                                        "name": "BOOK_ID"
                                    },
                                    {
                                        "name": "TITLE"
                                    }
                                ]
                            },
                            "data": [
                                {
                                    "Top_User": "14771",
                                    "BOOK_ID": "2",
                                    "TITLE": "Harry Potter and the Order of the Phoenix (Harry Potter, #5)"
                                },
                                {
                                    "Top_User": "14771",
                                    "BOOK_ID": "6",
                                    "TITLE": "Harry Potter and the Goblet of Fire (Harry Potter, #4)"
                                },
                                {
                                    "Top_User": "14771",
                                    "BOOK_ID": "24",
                                    "TITLE": "In a Sunburned Country"
                                },
                                {
                                    "Top_User": "14771",
                                    "BOOK_ID": "26",
                                    "TITLE": "The Lost Continent: Travels in Small Town America"
                                },
                                {
                                    "Top_User": "14771",
                                    "BOOK_ID": "30",
                                    "TITLE": "J.R.R. Tolkien 4-Book Boxed Set: The Hobbit and The Lord of the Rings"
                                },
                                {
                                    "Top_User": "14771",
                                    "BOOK_ID": "34",
                                    "TITLE": "The Fellowship of the Ring (The Lord of the Rings, #1)"
                                },
                                {
                                    "Top_User": "14771",
                                    "BOOK_ID": "67",
                                    "TITLE": "The Known World"
                                },
                                {
                                    "Top_User": "14771",
                                    "BOOK_ID": "98",
                                    "TITLE": "What to Expect the First Year (What to Expect)"
                                },
                                {
                                    "Top_User": "14771",
                                    "BOOK_ID": "119",
                                    "TITLE": "The Lord of the Rings: The Art of The Fellowship of the Ring"
                                },
                                {
                                    "Top_User": "14771",
                                    "BOOK_ID": "249",
                                    "TITLE": "Tropic of Cancer"
                                },
                                {
                                    "Top_User": "14771",
                                    "BOOK_ID": "431",
                                    "TITLE": "The New York Trilogy"
                                },
                                {
                                    "Top_User": "14771",
                                    "BOOK_ID": "456",
                                    "TITLE": "Leviathan"
                                },
                                {
                                    "Top_User": "14771",
                                    "BOOK_ID": "1375",
                                    "TITLE": "The Iliad/The Odyssey"
                                },
                                {
                                    "Top_User": "14771",
                                    "BOOK_ID": "4659",
                                    "TITLE": "A Widow for One Year"
                                },
                                {
                                    "Top_User": "14771",
                                    "BOOK_ID": "7797",
                                    "TITLE": "Ten Apples Up On Top!"
                                }
                            ]
                        },
                        "text/html": "<table><tr><th>Top_User</th><th>BOOK_ID</th><th>TITLE</th></tr><tr><td>14771</td><td>2</td><td>Harry Potter and the Order of the Phoenix (Harry Potter, #5)</td></tr><tr><td>14771</td><td>6</td><td>Harry Potter and the Goblet of Fire (Harry Potter, #4)</td></tr><tr><td>14771</td><td>24</td><td>In a Sunburned Country</td></tr><tr><td>14771</td><td>26</td><td>The Lost Continent: Travels in Small Town America</td></tr><tr><td>14771</td><td>30</td><td>J.R.R. Tolkien 4-Book Boxed Set: The Hobbit and The Lord of the Rings</td></tr><tr><td>14771</td><td>34</td><td>The Fellowship of the Ring (The Lord of the Rings, #1)</td></tr><tr><td>14771</td><td>67</td><td>The Known World</td></tr><tr><td>14771</td><td>98</td><td>What to Expect the First Year (What to Expect)</td></tr><tr><td>14771</td><td>119</td><td>The Lord of the Rings: The Art of The Fellowship of the Ring</td></tr><tr><td>14771</td><td>249</td><td>Tropic of Cancer</td></tr><tr><td>14771</td><td>431</td><td>The New York Trilogy</td></tr><tr><td>14771</td><td>456</td><td>Leviathan</td></tr><tr><td>14771</td><td>1375</td><td>The Iliad/The Odyssey</td></tr><tr><td>14771</td><td>4659</td><td>A Widow for One Year</td></tr><tr><td>14771</td><td>7797</td><td>Ten Apples Up On Top!</td></tr></table>"
                    },
                    "metadata": {}
                }
            ],
            "execution_count": 40
        }
    ]
}